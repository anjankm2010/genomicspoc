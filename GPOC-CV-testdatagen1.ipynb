{
 "cells": [
  {
   "cell_type": "code",
   "execution_count": 1,
   "metadata": {},
   "outputs": [
    {
     "name": "stdout",
     "output_type": "stream",
     "text": [
      "1.77\n"
     ]
    }
   ],
   "source": [
    "import Bio\n",
    "print(Bio.__version__)\n",
    "from Bio.Seq import Seq\n",
    "from Bio import SeqIO\n",
    "from Bio.Alphabet import IUPAC\n",
    "from Bio.Alphabet import generic_nucleotide\n",
    "from Bio import Align\n",
    "from Bio.SeqRecord import SeqRecord\n",
    "from Bio.Seq import MutableSeq\n",
    "from Bio.Alphabet import generic_dna\n",
    "import re\n",
    "from Bio import pairwise2\n",
    "from Bio.pairwise2 import format_alignment"
   ]
  },
  {
   "cell_type": "code",
   "execution_count": 2,
   "metadata": {},
   "outputs": [],
   "source": [
    "ref_seq_record = SeqIO.read(\"BRCA1-REF.fasta\", \"fasta\")"
   ]
  },
  {
   "cell_type": "code",
   "execution_count": 3,
   "metadata": {},
   "outputs": [
    {
     "name": "stdout",
     "output_type": "stream",
     "text": [
      "GACAGGCTGT\n",
      "ACAGCCTGTC\n",
      "UUUUUUUUUUUUUUUUUUUUUUUUUUUUUUUUUUUUUUUUUUUUUUUUUUUUUUUUUUUUUUUUUUUUUUUUUUUUUUUUUUUUUUUUUUUUUUUUUUUUUUUU\n",
      "7088\n",
      "7088\n",
      "GCTGAGACTTCCTGGACGGGGACAGCCTGTCGGGGTTTCTCTCAGGAGGCCGCCCCTGCGCTCAGGAGGCCTTCACCCTCTGCTCTGGGTAAAGTTCATT\n",
      "7088\n"
     ]
    },
    {
     "data": {
      "text/plain": [
       "1"
      ]
     },
     "execution_count": 3,
     "metadata": {},
     "output_type": "execute_result"
    }
   ],
   "source": [
    "#mutable_seq = MutableSeq(\"GCCATTGTAATGGGCCGCTGAAAGGGTGCCCGA\", IUPAC.unambiguous_dna) \n",
    "#c.0021_0030inv --- inversion (reverse complement)\n",
    "#c.0041_0050con0061_0070 --- conversion \n",
    "#c.0010C>G\n",
    "\n",
    "sequence = ref_seq_record.seq\n",
    "\n",
    "seqsect1 = sequence[:21]\n",
    "seqsect2 = sequence[21:31]\n",
    "seqsect3 = sequence[31:41]\n",
    "seqsect4 = sequence[41:51]\n",
    "seqsect5 = sequence[51:61]\n",
    "seqsect6 = sequence[61:71]\n",
    "seqsect7 = sequence[71:]\n",
    "\n",
    "print(seqsect2)\n",
    "inversion_seq = seqsect2.reverse_complement()\n",
    "print(inversion_seq)\n",
    "\n",
    "print(\"UUUUUUUUUUUUUUUUUUUUUUUUUUUUUUUUUUUUUUUUUUUUUUUUUUUUUUUUUUUUUUUUUUUUUUUUUUUUUUUUUUUUUUUUUUUUUUUUUUUUUUUU\")\n",
    "\n",
    "simple_seq_req = SeqRecord(seqsect1+inversion_seq+seqsect3+seqsect6+seqsect5+seqsect6+seqsect7)\n",
    "print(len(simple_seq_req))\n",
    "#SeqIO.write(simple_seq_req, \"P004-BRCA1-CV01tmp.fasta\", \"fasta\")\n",
    "#var_seq_record = SeqIO.read(\"P004-BRCA1-CV01tmp.fasta\", \"fasta\")\n",
    "\n",
    "sequence2 = simple_seq_req.seq\n",
    "mutable_seq = MutableSeq(str(sequence2), IUPAC.unambiguous_dna)\n",
    "#print(sequence2)\n",
    "print(len(mutable_seq))\n",
    "print(mutable_seq[:100])\n",
    "mutable_seq[10] = \"G\"\n",
    "\n",
    "new_seq = mutable_seq.toseq()\n",
    "simple_seq_req = SeqRecord(new_seq)\n",
    "simple_seq_req.id = 'AJ12345C1'\n",
    "print(len(simple_seq_req))\n",
    "SeqIO.write(simple_seq_req, \"P004-BRCA1-CV01.fasta\", \"fasta\")"
   ]
  },
  {
   "cell_type": "code",
   "execution_count": 4,
   "metadata": {},
   "outputs": [
    {
     "name": "stdout",
     "output_type": "stream",
     "text": [
      "var: |GCTGAGACTTGCTGGACGGG|GACAGCCTGTCGGGGTTTCT|CTCAGGAGGCCGCCCCTGCG|CTCAGGAGGCCTTCACCCTC|TGCTCTGGGTAAAGTTCATT\n",
      "ref: |GCTGAGACTTCCTGGACGGG|GGACAGGCTGTGGGGTTTCT|CAGATAACTGGGCCCCTGCG|CTCAGGAGGCCTTCACCCTC|TGCTCTGGGTAAAGTTCATT\n"
     ]
    }
   ],
   "source": [
    "var_seq_record = SeqIO.read(\"P004-BRCA1-CV01.fasta\", \"fasta\")\n",
    "\n",
    "print(\"var: |\"+ var_seq_record.seq[:20]+'|'+var_seq_record.seq[20:40]+'|'+var_seq_record.seq[40:60]+'|'+var_seq_record.seq[60:80]+'|'+var_seq_record.seq[80:100])\n",
    "print(\"ref: |\"+ ref_seq_record.seq[:20]+'|'+ref_seq_record.seq[20:40]+'|'+ref_seq_record.seq[40:60]+'|'+ref_seq_record.seq[60:80]+'|'+ref_seq_record.seq[80:100])\n"
   ]
  },
  {
   "cell_type": "code",
   "execution_count": 5,
   "metadata": {},
   "outputs": [
    {
     "name": "stdout",
     "output_type": "stream",
     "text": [
      "7088\n",
      "GCTGAGACTTCCTGGACGGG\n",
      "UUUUUUUUUUUUUUUUUUUUUUUUUUUUUUUUUUUUUUUUUUUUUUUUUUUUUUUUUUUUUUUUUUUUUUUUUUUUUUUUUUUUUUUUUUUUUUUUUUUUUUUU\n",
      "GCTGAGACTGGACGGGGGAC\n",
      "7094\n"
     ]
    },
    {
     "data": {
      "text/plain": [
       "1"
      ]
     },
     "execution_count": 5,
     "metadata": {},
     "output_type": "execute_result"
    }
   ],
   "source": [
    "sequence = ref_seq_record.seq\n",
    "mutable_seq = MutableSeq(str(sequence), IUPAC.unambiguous_dna)\n",
    "#print(sequence)\n",
    "print(len(mutable_seq))\n",
    "print(mutable_seq[:20])\n",
    "\n",
    "#del\n",
    "mutable_seq[9] = \"K\"\n",
    "mutable_seq[10] = \"K\"\n",
    "mutable_seq[11] = \"K\"\n",
    "mutable_seq[12] = \"K\"\n",
    "mutable_seq.remove(\"K\")\n",
    "mutable_seq.remove(\"K\")\n",
    "mutable_seq.remove(\"K\")\n",
    "mutable_seq.remove(\"K\")\n",
    "\n",
    "#insert\n",
    "mutable_seq.insert(19,\"C\")\n",
    "mutable_seq.insert(20,\"T\")\n",
    "mutable_seq.insert(21,\"A\")\n",
    "mutable_seq.insert(22,\"G\")\n",
    "\n",
    "#dup\n",
    "mutable_seq.insert(29,\"G\")\n",
    "mutable_seq.insert(30,\"G\")\n",
    "mutable_seq.insert(31,\"C\")\n",
    "mutable_seq.insert(32,\"T\")\n",
    "\n",
    "#insdel\n",
    "mutable_seq[41] = \"K\"\n",
    "mutable_seq[42] = \"K\"\n",
    "mutable_seq.remove(\"K\")\n",
    "mutable_seq.remove(\"K\")\n",
    "mutable_seq.insert(41,\"C\")\n",
    "mutable_seq.insert(42,\"A\")\n",
    "mutable_seq.insert(43,\"A\")\n",
    "mutable_seq.insert(44,\"T\")\n",
    "\n",
    "print(\"UUUUUUUUUUUUUUUUUUUUUUUUUUUUUUUUUUUUUUUUUUUUUUUUUUUUUUUUUUUUUUUUUUUUUUUUUUUUUUUUUUUUUUUUUUUUUUUUUUUUUUUU\")\n",
    "print(mutable_seq[:20])\n",
    "new_seq = mutable_seq.toseq()\n",
    "\n",
    "simple_seq_req = SeqRecord(new_seq)\n",
    "simple_seq_req.id = 'AJ12345C2'\n",
    "print(len(simple_seq_req))\n",
    "SeqIO.write(simple_seq_req, \"P004-BRCA1-CV02.fasta\", \"fasta\")"
   ]
  },
  {
   "cell_type": "code",
   "execution_count": 6,
   "metadata": {},
   "outputs": [
    {
     "name": "stdout",
     "output_type": "stream",
     "text": [
      "var: |GCTGAGACTGGACGGGGGAC|TAGCAGGCTGGCTGTGGGGT|TCAATTCAGATAACTGGGCC|CCTGCGCTCAGGAGGCCTTC|ACCCTCTGCTCTGGGTAAAG\n",
      "ref: |GCTGAGACTTCCTGGACGGG|GGACAGGCTGTGGGGTTTCT|CAGATAACTGGGCCCCTGCG|CTCAGGAGGCCTTCACCCTC|TGCTCTGGGTAAAGTTCATT\n"
     ]
    }
   ],
   "source": [
    "var_seq_record = SeqIO.read(\"P004-BRCA1-CV02.fasta\", \"fasta\")\n",
    "\n",
    "print(\"var: |\"+ var_seq_record.seq[:20]+'|'+var_seq_record.seq[20:40]+'|'+var_seq_record.seq[40:60]+'|'+var_seq_record.seq[60:80]+'|'+var_seq_record.seq[80:100])\n",
    "print(\"ref: |\"+ ref_seq_record.seq[:20]+'|'+ref_seq_record.seq[20:40]+'|'+ref_seq_record.seq[40:60]+'|'+ref_seq_record.seq[60:80]+'|'+ref_seq_record.seq[80:100])\n"
   ]
  },
  {
   "cell_type": "code",
   "execution_count": 7,
   "metadata": {},
   "outputs": [
    {
     "ename": "NameError",
     "evalue": "name 'breakdown' is not defined",
     "output_type": "error",
     "traceback": [
      "\u001b[1;31m---------------------------------------------------------------------------\u001b[0m",
      "\u001b[1;31mNameError\u001b[0m                                 Traceback (most recent call last)",
      "\u001b[1;32m<ipython-input-7-b74e1972a3dd>\u001b[0m in \u001b[0;36m<module>\u001b[1;34m\u001b[0m\n\u001b[0;32m      1\u001b[0m \u001b[1;31m#above is good, below is not\u001b[0m\u001b[1;33m\u001b[0m\u001b[1;33m\u001b[0m\u001b[1;33m\u001b[0m\u001b[0m\n\u001b[1;32m----> 2\u001b[1;33m \u001b[0mbreakdown\u001b[0m\u001b[1;33m\u001b[0m\u001b[1;33m\u001b[0m\u001b[0m\n\u001b[0m",
      "\u001b[1;31mNameError\u001b[0m: name 'breakdown' is not defined"
     ]
    }
   ],
   "source": [
    "#above is good, below is not\n",
    "breakdown"
   ]
  },
  {
   "cell_type": "code",
   "execution_count": null,
   "metadata": {},
   "outputs": [],
   "source": [
    "\n",
    "#mutable_seq = MutableSeq(\"GCCATTGTAATGGGCCGCTGAAAGGGTGCCCGA\", IUPAC.unambiguous_dna) \n",
    "sequence = ref_seq_record.seq\n",
    "mutable_seq = MutableSeq(str(sequence), IUPAC.unambiguous_dna)\n",
    "#print(sequence)\n",
    "print(len(mutable_seq))\n",
    "print(mutable_seq[:20])\n",
    "mutable_seq[5] = \"K\"\n",
    "mutable_seq[6] = \"K\"\n",
    "mutable_seq[7] = \"K\"\n",
    "mutable_seq[8] = \"K\"\n",
    "print(\"LLLLLLLLLLLLLLLLLLLLLLLLLLLLLLLLLLLLLLLLLLLLLLLLLLLLLLLLLLLLLLLLLLLLLLLLLLLLLLLLLLLLLLLLLLLLLLLLLLLLLL\")\n",
    "print(mutable_seq[:20])\n",
    "mutable_seq.remove(\"K\")\n",
    "mutable_seq.remove(\"K\")\n",
    "mutable_seq.remove(\"K\")\n",
    "mutable_seq.remove(\"K\")\n",
    "print(\"UUUUUUUUUUUUUUUUUUUUUUUUUUUUUUUUUUUUUUUUUUUUUUUUUUUUUUUUUUUUUUUUUUUUUUUUUUUUUUUUUUUUUUUUUUUUUUUUUUUUUUUU\")\n",
    "print(mutable_seq[:20])\n",
    "new_seq = mutable_seq.toseq()\n",
    "new_seq.id = \"AJ123452\"\n",
    "print(\"WWWWWWWWWWWWWWWWWWWWWWWWWWWWWWWWWWWWWWWWWWWWWWWWWWWWWWWWWWWWWWWWWWWWWWWWWWWWWWWWWWWWWWWWWWWWWWWWWWWWWWWWWW\")\n",
    "print(new_seq.id)\n",
    "simple_seq_req = SeqRecord(new_seq)\n",
    "simple_seq_req.id = 'AJ123452'\n",
    "print(len(simple_seq_req))\n",
    "SeqIO.write(simple_seq_req, \"P001-BRCA1-VAR02.fasta\", \"fasta\")"
   ]
  },
  {
   "cell_type": "code",
   "execution_count": null,
   "metadata": {},
   "outputs": [],
   "source": []
  },
  {
   "cell_type": "code",
   "execution_count": null,
   "metadata": {},
   "outputs": [],
   "source": []
  },
  {
   "cell_type": "code",
   "execution_count": null,
   "metadata": {},
   "outputs": [],
   "source": []
  },
  {
   "cell_type": "code",
   "execution_count": null,
   "metadata": {},
   "outputs": [],
   "source": [
    "\n"
   ]
  },
  {
   "cell_type": "code",
   "execution_count": null,
   "metadata": {},
   "outputs": [],
   "source": [
    "#mutable_seq = MutableSeq(\"GCCATTGTAATGGGCCGCTGAAAGGGTGCCCGA\", IUPAC.unambiguous_dna) \n",
    "sequence = ref_seq_record.seq\n",
    "mutable_seq = MutableSeq(str(sequence), IUPAC.unambiguous_dna)\n",
    "#print(sequence)\n",
    "print(len(mutable_seq))\n",
    "print(mutable_seq[:20])\n",
    "mutable_seq[5] = \"K\"\n",
    "mutable_seq[6] = \"K\"\n",
    "mutable_seq[7] = \"K\"\n",
    "mutable_seq[8] = \"K\"\n",
    "print(\"LLLLLLLLLLLLLLLLLLLLLLLLLLLLLLLLLLLLLLLLLLLLLLLLLLLLLLLLLLLLLLLLLLLLLLLLLLLLLLLLLLLLLLLLLLLLLLLLLLLLLL\")\n",
    "print(mutable_seq[:20])\n",
    "mutable_seq.remove(\"K\")\n",
    "mutable_seq.remove(\"K\")\n",
    "mutable_seq.remove(\"K\")\n",
    "mutable_seq.remove(\"K\")\n",
    "print(\"UUUUUUUUUUUUUUUUUUUUUUUUUUUUUUUUUUUUUUUUUUUUUUUUUUUUUUUUUUUUUUUUUUUUUUUUUUUUUUUUUUUUUUUUUUUUUUUUUUUUUUUU\")\n",
    "print(mutable_seq[:20])\n",
    "new_seq = mutable_seq.toseq()\n",
    "new_seq.id = \"AJ123452\"\n",
    "print(\"WWWWWWWWWWWWWWWWWWWWWWWWWWWWWWWWWWWWWWWWWWWWWWWWWWWWWWWWWWWWWWWWWWWWWWWWWWWWWWWWWWWWWWWWWWWWWWWWWWWWWWWWWW\")\n",
    "print(new_seq.id)\n",
    "simple_seq_req = SeqRecord(new_seq)\n",
    "simple_seq_req.id = 'AJ123452'\n",
    "print(len(simple_seq_req))\n",
    "SeqIO.write(simple_seq_req, \"P001-BRCA1-VAR02.fasta\", \"fasta\")"
   ]
  },
  {
   "cell_type": "code",
   "execution_count": null,
   "metadata": {},
   "outputs": [],
   "source": [
    "var2_seq_record = SeqIO.read(\"P001-BRCA1-VAR02.fasta\", \"fasta\")"
   ]
  },
  {
   "cell_type": "code",
   "execution_count": null,
   "metadata": {},
   "outputs": [],
   "source": [
    "print(var2_seq_record.seq[:20])\n",
    "print(ref_seq_record.seq[:20])"
   ]
  },
  {
   "cell_type": "code",
   "execution_count": null,
   "metadata": {},
   "outputs": [],
   "source": [
    "var3_seq_record = SeqIO.read(\"P001-BRCA1-VAR03.fasta\", \"fasta\")"
   ]
  },
  {
   "cell_type": "code",
   "execution_count": null,
   "metadata": {},
   "outputs": [],
   "source": [
    "print(var3_seq_record.seq[:20])\n",
    "print(ref_seq_record.seq[:20])"
   ]
  },
  {
   "cell_type": "code",
   "execution_count": null,
   "metadata": {},
   "outputs": [],
   "source": [
    "sequence = ref_seq_record.seq\n",
    "mutable_seq = MutableSeq(str(sequence), IUPAC.unambiguous_dna)\n",
    "#print(sequence)\n",
    "print(len(mutable_seq))\n",
    "print(mutable_seq[:20])\n",
    "mutable_seq.insert(9,\"T\")\n",
    "mutable_seq.insert(10,\"C\")\n",
    "mutable_seq.insert(11,\"C\")\n",
    "mutable_seq.insert(12,\"T\")\n",
    "\n",
    "print(\"LLLLLLLLLLLLLLLLLLLLLLLLLLLLLLLLLLLLLLLLLLLLLLLLLLLLLLLLLLLLLLLLLLLLLLLLLLLLLLLLLLLLLLLLLLLLLLLLLLLLLL\")\n",
    "print(mutable_seq[:20])\n",
    "\n",
    "print(\"UUUUUUUUUUUUUUUUUUUUUUUUUUUUUUUUUUUUUUUUUUUUUUUUUUUUUUUUUUUUUUUUUUUUUUUUUUUUUUUUUUUUUUUUUUUUUUUUUUUUUUUU\")\n",
    "print(mutable_seq[:20])\n",
    "new_seq = mutable_seq.toseq()\n",
    "new_seq.id = \"AJ123454\"\n",
    "print(\"WWWWWWWWWWWWWWWWWWWWWWWWWWWWWWWWWWWWWWWWWWWWWWWWWWWWWWWWWWWWWWWWWWWWWWWWWWWWWWWWWWWWWWWWWWWWWWWWWWWWWWWWWW\")\n",
    "print(new_seq.id)\n",
    "simple_seq_req = SeqRecord(new_seq)\n",
    "simple_seq_req.id = 'AJ123454'\n",
    "print(len(simple_seq_req))\n",
    "SeqIO.write(simple_seq_req, \"P001-BRCA1-VAR04.fasta\", \"fasta\")"
   ]
  },
  {
   "cell_type": "code",
   "execution_count": null,
   "metadata": {},
   "outputs": [],
   "source": [
    "var4_seq_record = SeqIO.read(\"P001-BRCA1-VAR04.fasta\", \"fasta\")"
   ]
  },
  {
   "cell_type": "code",
   "execution_count": null,
   "metadata": {},
   "outputs": [],
   "source": [
    "print(var4_seq_record.seq[:40])\n",
    "print(ref_seq_record.seq[:40])"
   ]
  },
  {
   "cell_type": "code",
   "execution_count": null,
   "metadata": {},
   "outputs": [],
   "source": [
    "sequence = ref_seq_record.seq\n",
    "mutable_seq = MutableSeq(str(sequence), IUPAC.unambiguous_dna)\n",
    "#print(sequence)\n",
    "print(len(mutable_seq))\n",
    "print(mutable_seq[:30])\n",
    "mutable_seq.insert(13,\"G\")\n",
    "mutable_seq.insert(14,\"G\")\n",
    "mutable_seq.insert(15,\"A\")\n",
    "mutable_seq.insert(16,\"C\")\n",
    "print(\"LLLLLLLLLLLLLLLLLLLLLLLLLLLLLLLLLLLLLLLLLLLLLLLLLLLLLLLLLLLLLLLLLLLLLLLLLLLLLLLLLLLLLLLLLLLLLLLLLLLLLL\")\n",
    "print(mutable_seq[:30])\n",
    "\n",
    "print(\"UUUUUUUUUUUUUUUUUUUUUUUUUUUUUUUUUUUUUUUUUUUUUUUUUUUUUUUUUUUUUUUUUUUUUUUUUUUUUUUUUUUUUUUUUUUUUUUUUUUUUUUU\")\n",
    "print(mutable_seq[:30])\n",
    "new_seq = mutable_seq.toseq()\n",
    "new_seq.id = \"AJ123455\"\n",
    "print(\"WWWWWWWWWWWWWWWWWWWWWWWWWWWWWWWWWWWWWWWWWWWWWWWWWWWWWWWWWWWWWWWWWWWWWWWWWWWWWWWWWWWWWWWWWWWWWWWWWWWWWWWWWW\")\n",
    "print(new_seq.id)\n",
    "simple_seq_req = SeqRecord(new_seq)\n",
    "simple_seq_req.id = 'AJ123455'\n",
    "print(len(simple_seq_req))\n",
    "SeqIO.write(simple_seq_req, \"P001-BRCA1-VAR05.fasta\", \"fasta\")"
   ]
  },
  {
   "cell_type": "code",
   "execution_count": null,
   "metadata": {},
   "outputs": [],
   "source": [
    "var5_seq_record = SeqIO.read(\"P001-BRCA1-VAR05.fasta\", \"fasta\")"
   ]
  },
  {
   "cell_type": "code",
   "execution_count": null,
   "metadata": {},
   "outputs": [],
   "source": [
    "print(var5_seq_record.seq[:40])\n",
    "print(ref_seq_record.seq[:40])"
   ]
  },
  {
   "cell_type": "code",
   "execution_count": null,
   "metadata": {},
   "outputs": [],
   "source": [
    "sequence = ref_seq_record.seq\n",
    "mutable_seq = MutableSeq(str(sequence), IUPAC.unambiguous_dna)\n",
    "#print(sequence)\n",
    "print(len(mutable_seq))\n",
    "print(mutable_seq[:30])\n",
    "mutable_seq.insert(13,\"A\")\n",
    "mutable_seq.insert(14,\"T\")\n",
    "mutable_seq.insert(15,\"A\")\n",
    "mutable_seq.insert(16,\"T\")\n",
    "mutable_seq.insert(17,\"A\")\n",
    "mutable_seq.insert(18,\"T\")\n",
    "print(\"LLLLLLLLLLLLLLLLLLLLLLLLLLLLLLLLLLLLLLLLLLLLLLLLLLLLLLLLLLLLLLLLLLLLLLLLLLLLLLLLLLLLLLLLLLLLLLLLLLLLLL\")\n",
    "print(mutable_seq[:30])\n",
    "\n",
    "print(\"UUUUUUUUUUUUUUUUUUUUUUUUUUUUUUUUUUUUUUUUUUUUUUUUUUUUUUUUUUUUUUUUUUUUUUUUUUUUUUUUUUUUUUUUUUUUUUUUUUUUUUUU\")\n",
    "print(mutable_seq[:30])\n",
    "new_seq = mutable_seq.toseq()\n",
    "new_seq.id = \"AJ123456\"\n",
    "print(\"WWWWWWWWWWWWWWWWWWWWWWWWWWWWWWWWWWWWWWWWWWWWWWWWWWWWWWWWWWWWWWWWWWWWWWWWWWWWWWWWWWWWWWWWWWWWWWWWWWWWWWWWWW\")\n",
    "print(new_seq.id)\n",
    "simple_seq_req = SeqRecord(new_seq)\n",
    "simple_seq_req.id = 'AJ123456'\n",
    "print(len(simple_seq_req))\n",
    "SeqIO.write(simple_seq_req, \"P001-BRCA1-VAR06.fasta\", \"fasta\")"
   ]
  },
  {
   "cell_type": "code",
   "execution_count": null,
   "metadata": {},
   "outputs": [],
   "source": [
    "var6_seq_record = SeqIO.read(\"P001-BRCA1-VAR06.fasta\", \"fasta\")"
   ]
  },
  {
   "cell_type": "code",
   "execution_count": null,
   "metadata": {},
   "outputs": [],
   "source": [
    "print(var6_seq_record.seq[:40])\n",
    "print(ref_seq_record.seq[:40])"
   ]
  },
  {
   "cell_type": "code",
   "execution_count": null,
   "metadata": {},
   "outputs": [],
   "source": [
    "sequence = ref_seq_record.seq\n",
    "mutable_seq = MutableSeq(str(sequence), IUPAC.unambiguous_dna)\n",
    "#print(sequence)\n",
    "print(len(mutable_seq))\n",
    "print(mutable_seq[:20])\n",
    "mutable_seq[9] = \"K\"\n",
    "mutable_seq[10] = \"K\"\n",
    "mutable_seq.insert(11,\"G\")\n",
    "mutable_seq.insert(12,\"G\")\n",
    "mutable_seq.insert(13,\"A\")\n",
    "mutable_seq.insert(14,\"A\")\n",
    "print(\"LLLLLLLLLLLLLLLLLLLLLLLLLLLLLLLLLLLLLLLLLLLLLLLLLLLLLLLLLLLLLLLLLLLLLLLLLLLLLLLLLLLLLLLLLLLLLLLLLLLLLL\")\n",
    "print(mutable_seq[:20])\n",
    "mutable_seq.remove(\"K\")\n",
    "mutable_seq.remove(\"K\")\n",
    "\n",
    "print(\"UUUUUUUUUUUUUUUUUUUUUUUUUUUUUUUUUUUUUUUUUUUUUUUUUUUUUUUUUUUUUUUUUUUUUUUUUUUUUUUUUUUUUUUUUUUUUUUUUUUUUUUU\")\n",
    "print(mutable_seq[:20])\n",
    "new_seq = mutable_seq.toseq()\n",
    "new_seq.id = \"AJ123457\"\n",
    "print(\"WWWWWWWWWWWWWWWWWWWWWWWWWWWWWWWWWWWWWWWWWWWWWWWWWWWWWWWWWWWWWWWWWWWWWWWWWWWWWWWWWWWWWWWWWWWWWWWWWWWWWWWWWW\")\n",
    "print(new_seq.id)\n",
    "simple_seq_req = SeqRecord(new_seq)\n",
    "simple_seq_req.id = 'AJ123457'\n",
    "print(len(simple_seq_req))\n",
    "SeqIO.write(simple_seq_req, \"P001-BRCA1-VAR07.fasta\", \"fasta\")\n",
    "#SeqIO.write(simple_seq_req, \"P001-BRCA1-VAR07.fasta\", \"fasta\")"
   ]
  },
  {
   "cell_type": "code",
   "execution_count": null,
   "metadata": {},
   "outputs": [],
   "source": [
    "var7_seq_record = SeqIO.read(\"P001-BRCA1-VAR07.fasta\", \"fasta\")"
   ]
  },
  {
   "cell_type": "code",
   "execution_count": null,
   "metadata": {},
   "outputs": [],
   "source": [
    "print(var7_seq_record.seq[:40])\n",
    "print(ref_seq_record.seq[:40])"
   ]
  },
  {
   "cell_type": "code",
   "execution_count": null,
   "metadata": {},
   "outputs": [],
   "source": [
    "'''\n",
    "7139552740\n",
    "7139552741\n",
    "2816353159\n",
    "'''"
   ]
  },
  {
   "cell_type": "code",
   "execution_count": null,
   "metadata": {},
   "outputs": [],
   "source": [
    "sequence = ref_seq_record.seq\n",
    "mutable_seq = MutableSeq(str(sequence), IUPAC.unambiguous_dna)\n",
    "#print(sequence)\n",
    "print(len(mutable_seq))\n",
    "print(mutable_seq[:20])\n",
    "mutable_seq[9] = \"K\"\n",
    "mutable_seq[10] = \"K\"\n",
    "mutable_seq.insert(11,\"T\")\n",
    "mutable_seq.insert(12,\"A\")\n",
    "mutable_seq.insert(13,\"G\")\n",
    "mutable_seq.insert(14,\"C\")\n",
    "print(\"LLLLLLLLLLLLLLLLLLLLLLLLLLLLLLLLLLLLLLLLLLLLLLLLLLLLLLLLLLLLLLLLLLLLLLLLLLLLLLLLLLLLLLLLLLLLLLLLLLLLLL\")\n",
    "print(mutable_seq[:20])\n",
    "mutable_seq.remove(\"K\")\n",
    "mutable_seq.remove(\"K\")\n",
    "\n",
    "print(\"UUUUUUUUUUUUUUUUUUUUUUUUUUUUUUUUUUUUUUUUUUUUUUUUUUUUUUUUUUUUUUUUUUUUUUUUUUUUUUUUUUUUUUUUUUUUUUUUUUUUUUUU\")\n",
    "print(mutable_seq[:20])\n",
    "new_seq = mutable_seq.toseq()\n",
    "new_seq.id = \"AJ123457\"\n",
    "print(\"WWWWWWWWWWWWWWWWWWWWWWWWWWWWWWWWWWWWWWWWWWWWWWWWWWWWWWWWWWWWWWWWWWWWWWWWWWWWWWWWWWWWWWWWWWWWWWWWWWWWWWWWWW\")\n",
    "print(new_seq.id)\n",
    "simple_seq_req = SeqRecord(new_seq)\n",
    "simple_seq_req.id = 'AJ123457'\n",
    "print(len(simple_seq_req))\n",
    "SeqIO.write(simple_seq_req, \"P001-BRCA1-VAR08.fasta\", \"fasta\")\n",
    "#SeqIO.write(simple_seq_req, \"P001-BRCA1-VAR08.fasta\", \"fasta\")"
   ]
  },
  {
   "cell_type": "code",
   "execution_count": null,
   "metadata": {},
   "outputs": [],
   "source": [
    "var8_seq_record = SeqIO.read(\"P001-BRCA1-VAR08.fasta\", \"fasta\")\n",
    "print(var8_seq_record.seq[:40])\n",
    "print(ref_seq_record.seq[:40])"
   ]
  },
  {
   "cell_type": "code",
   "execution_count": null,
   "metadata": {},
   "outputs": [],
   "source": []
  }
 ],
 "metadata": {
  "kernelspec": {
   "display_name": "Python 3",
   "language": "python",
   "name": "python3"
  },
  "language_info": {
   "codemirror_mode": {
    "name": "ipython",
    "version": 3
   },
   "file_extension": ".py",
   "mimetype": "text/x-python",
   "name": "python",
   "nbconvert_exporter": "python",
   "pygments_lexer": "ipython3",
   "version": "3.7.7"
  }
 },
 "nbformat": 4,
 "nbformat_minor": 4
}
