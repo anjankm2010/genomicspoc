{
 "cells": [
  {
   "cell_type": "code",
   "execution_count": 1,
   "metadata": {},
   "outputs": [
    {
     "name": "stdout",
     "output_type": "stream",
     "text": [
      "1.77\n"
     ]
    }
   ],
   "source": [
    "import Bio\n",
    "print(Bio.__version__)\n",
    "from Bio.Seq import Seq\n",
    "from Bio import SeqIO\n",
    "from Bio.Alphabet import IUPAC\n",
    "from Bio.Alphabet import generic_nucleotide\n",
    "from Bio import Align\n",
    "from Bio.SeqRecord import SeqRecord\n",
    "from Bio.Seq import MutableSeq\n",
    "from Bio.Alphabet import generic_dna\n",
    "import re\n",
    "from Bio import pairwise2\n",
    "from Bio.pairwise2 import format_alignment"
   ]
  },
  {
   "cell_type": "code",
   "execution_count": 2,
   "metadata": {},
   "outputs": [],
   "source": [
    "'''\n",
    "for seq_record in SeqIO.parse(\"BRCA1-REF.fasta\", \"fasta\"):\n",
    "    print(seq_record.id)\n",
    "    print(repr(seq_record.seq))\n",
    "    print(len(seq_record))\n",
    "'''\n",
    "   \n",
    "ref_seq_record = SeqIO.read(\"BRCA1-REF.fasta\", \"fasta\")"
   ]
  },
  {
   "cell_type": "code",
   "execution_count": 3,
   "metadata": {},
   "outputs": [
    {
     "name": "stdout",
     "output_type": "stream",
     "text": [
      "GCTGAGACTTCCTGGACGGGGGACAGGCTGTGGGGTTTCTCAGATAACTGGGCCCCTGCG\n",
      "GACAGGCTGTGGGGTTTCT\n",
      "LLLLLLLLLLLLLLLLLLLLLLLLLLLLLLLLLLLLLLLLLLLLLLLLLLLLLLLLLLLLLLLLLLLLLLLLLLLLLLLLLLLLLLLLLLLLLLLLLLLLLL\n",
      "AGAAACCCCACAGCCTGTC\n",
      "UUUUUUUUUUUUUUUUUUUUUUUUUUUUUUUUUUUUUUUUUUUUUUUUUUUUUUUUUUUUUUUUUUUUUUUUUUUUUUUUUUUUUUUUUUUUUUUUUUUUUUUU\n",
      "WWWWWWWWWWWWWWWWWWWWWWWWWWWWWWWWWWWWWWWWWWWWWWWWWWWWWWWWWWWWWWWWWWWWWWWWWWWWWWWWWWWWWWWWWWWWWWWWWWWWWWWWWW\n",
      "GCTGAGACTTCCTGGACGGGG\n",
      "CAGATAACTGGGCCCCTGCG\n",
      "7088\n",
      "GCTGAGACTTCCTGGACGGGG\n",
      "GCTGAGACTTCCTGGACGGGG\n",
      "GACAGGCTGTGGGGTTTCT\n",
      "GACAGGCTGTGGGGTTTCT\n",
      "CAGATAACTGGGCCCCTGCG\n",
      "CAGATAACTGGGCCCCTGCG\n",
      "GCTGAGACTTCCTGGACGGGGGACAGGCTGTGGGGTTTCTCAGATAACTGGGCCCCTGCG\n",
      "GCTGAGACTTCCTGGACGGGGAGAAACCCCACAGCCTGTCCAGATAACTGGGCCCCTGCG\n"
     ]
    }
   ],
   "source": [
    "#mutable_seq = MutableSeq(\"GCCATTGTAATGGGCCGCTGAAAGGGTGCCCGA\", IUPAC.unambiguous_dna) \n",
    "#c.4145_4160inv --- inversion (reverse complement)\n",
    "\n",
    "sequence = ref_seq_record.seq\n",
    "seqsection = sequence[21:40]\n",
    "print(sequence[:60])\n",
    "print(seqsection)\n",
    "inversion_seq = seqsection.reverse_complement()\n",
    "\n",
    "print(\"LLLLLLLLLLLLLLLLLLLLLLLLLLLLLLLLLLLLLLLLLLLLLLLLLLLLLLLLLLLLLLLLLLLLLLLLLLLLLLLLLLLLLLLLLLLLLLLLLLLLLL\")\n",
    "print(inversion_seq)\n",
    "\n",
    "print(\"UUUUUUUUUUUUUUUUUUUUUUUUUUUUUUUUUUUUUUUUUUUUUUUUUUUUUUUUUUUUUUUUUUUUUUUUUUUUUUUUUUUUUUUUUUUUUUUUUUUUUUUU\")\n",
    "\n",
    "new_seq1 = sequence[:21]\n",
    "new_seq2 = sequence[40:]\n",
    "\n",
    "print(\"WWWWWWWWWWWWWWWWWWWWWWWWWWWWWWWWWWWWWWWWWWWWWWWWWWWWWWWWWWWWWWWWWWWWWWWWWWWWWWWWWWWWWWWWWWWWWWWWWWWWWWWWWW\")\n",
    "print(new_seq1)\n",
    "print(new_seq2[:20])\n",
    "simple_seq_req = SeqRecord(new_seq1+inversion_seq+new_seq2)\n",
    "simple_seq_req.id = 'AJ123451'\n",
    "print(len(simple_seq_req))\n",
    "SeqIO.write(simple_seq_req, \"P001-BRCA1-VAR09.fasta\", \"fasta\")\n",
    "print(sequence[:21])\n",
    "print(simple_seq_req.seq[:21])\n",
    "print(sequence[21:40])\n",
    "print(simple_seq_req.seq[21:40].reverse_complement())\n",
    "print(sequence[40:60])\n",
    "print(simple_seq_req.seq[40:60])\n",
    "print(sequence[:60])\n",
    "print(simple_seq_req.seq[:60])"
   ]
  },
  {
   "cell_type": "code",
   "execution_count": 4,
   "metadata": {},
   "outputs": [
    {
     "name": "stdout",
     "output_type": "stream",
     "text": [
      "GCTGAGACTTCCTGGACGGGGGACAGGCTGTGGGGTTTCTCAGATAACTGGGCCCCTGCGCTCAGGAGGCCTTCACCCTCTGCTCTGGGTAAAGTTCATT\n",
      "GCTGAGACTTCCTGGACGGGG\n",
      "GACAGGCTGTGGGGTTTCT\n",
      "CAGATAACTGGGCCCCTGCGC\n",
      "TCAGGAGGCCTTCACCCTC\n",
      "TGCTCTGGGTAAAGTTCATT\n",
      "LLLLLLLLLLLLLLLLLLLLLLLLLLLLLLLLLLLLLLLLLLLLLLLLLLLLLLLLLLLLLLLLLLLLLLLLLLLLLLLLLLLLLLLLLLLLLLLLLLLLLL\n",
      "7088\n",
      "GCTGAGACTTCCTGGACGGGG\n",
      "GCTGAGACTTCCTGGACGGGG\n",
      "GACAGGCTGTGGGGTTTCT\n",
      "TCAGGAGGCCTTCACCCTC\n",
      "CAGATAACTGGGCCCCTGCGC\n",
      "CAGATAACTGGGCCCCTGCGC\n",
      "TCAGGAGGCCTTCACCCTC\n",
      "TCAGGAGGCCTTCACCCTC\n",
      "TGCTCTGGGTAAAGTTCATT\n",
      "TGCTCTGGGTAAAGTTCATT\n"
     ]
    }
   ],
   "source": [
    "#c.0812_0829con0908_0925 --- conversion\n",
    "\n",
    "sequence = ref_seq_record.seq\n",
    "seqsection1 = sequence[:21]\n",
    "seqsection2 = sequence[21:40]\n",
    "seqsection3 = sequence[40:61]\n",
    "seqsection4 = sequence[61:80]\n",
    "seqsection5 = sequence[80:]\n",
    "\n",
    "print(sequence[:100])\n",
    "print(seqsection1)\n",
    "print(seqsection2)\n",
    "print(seqsection3)\n",
    "print(seqsection4)\n",
    "print(seqsection5[:20])\n",
    "\n",
    "print(\"LLLLLLLLLLLLLLLLLLLLLLLLLLLLLLLLLLLLLLLLLLLLLLLLLLLLLLLLLLLLLLLLLLLLLLLLLLLLLLLLLLLLLLLLLLLLLLLLLLLLLL\")\n",
    "\n",
    "\n",
    "simple_seq_req = SeqRecord(seqsection1+seqsection4+seqsection3+seqsection4+seqsection5)\n",
    "simple_seq_req.id = 'AJ123451'\n",
    "print(len(simple_seq_req))\n",
    "SeqIO.write(simple_seq_req, \"P001-BRCA1-VAR10.fasta\", \"fasta\")\n",
    "print(sequence[:21])\n",
    "print(simple_seq_req.seq[:21])\n",
    "print(sequence[21:40])\n",
    "print(simple_seq_req.seq[21:40])\n",
    "print(sequence[40:61])\n",
    "print(simple_seq_req.seq[40:61])\n",
    "print(sequence[61:80])\n",
    "print(simple_seq_req.seq[61:80])\n",
    "print(sequence[80:100])\n",
    "print(simple_seq_req.seq[80:100])"
   ]
  },
  {
   "cell_type": "code",
   "execution_count": 5,
   "metadata": {},
   "outputs": [
    {
     "name": "stdout",
     "output_type": "stream",
     "text": [
      "GCTGAGACTTCCTGGACGGGGTCAGGAGGCCTTCACCCTCCAGATAACTGGGCCCCTGCGCTCAGGAGGCCTTCACCCTCTGCTCTGGGTAAAGTTCATT\n",
      "GCTGAGACTTCCTGGACGGGGGACAGGCTGTGGGGTTTCTCAGATAACTGGGCCCCTGCGCTCAGGAGGCCTTCACCCTCTGCTCTGGGTAAAGTTCATT\n"
     ]
    }
   ],
   "source": [
    "var_seq_record = SeqIO.read(\"P001-BRCA1-VAR10.fasta\", \"fasta\")\n",
    "print(var_seq_record.seq[:100])\n",
    "print(ref_seq_record.seq[:100])"
   ]
  },
  {
   "cell_type": "code",
   "execution_count": 6,
   "metadata": {},
   "outputs": [
    {
     "name": "stdout",
     "output_type": "stream",
     "text": [
      "7088\n",
      "GCTGAGACTTCCTGGACGGG\n",
      "LLLLLLLLLLLLLLLLLLLLLLLLLLLLLLLLLLLLLLLLLLLLLLLLLLLLLLLLLLLLLLLLLLLLLLLLLLLLLLLLLLLLLLLLLLLLLLLLLLLLLL\n",
      "GCTGAGACTTTCTGGACGGG\n",
      "UUUUUUUUUUUUUUUUUUUUUUUUUUUUUUUUUUUUUUUUUUUUUUUUUUUUUUUUUUUUUUUUUUUUUUUUUUUUUUUUUUUUUUUUUUUUUUUUUUUUUUUU\n",
      "GCTGAGACTTTCTGGACGGG\n",
      "WWWWWWWWWWWWWWWWWWWWWWWWWWWWWWWWWWWWWWWWWWWWWWWWWWWWWWWWWWWWWWWWWWWWWWWWWWWWWWWWWWWWWWWWWWWWWWWWWWWWWWWWWW\n",
      "AJ123451\n",
      "7088\n"
     ]
    },
    {
     "data": {
      "text/plain": [
       "1"
      ]
     },
     "execution_count": 6,
     "metadata": {},
     "output_type": "execute_result"
    }
   ],
   "source": [
    "#mutable_seq = MutableSeq(\"GCCATTGTAATGGGCCGCTGAAAGGGTGCCCGA\", IUPAC.unambiguous_dna) \n",
    "sequence = ref_seq_record.seq\n",
    "mutable_seq = MutableSeq(str(sequence), IUPAC.unambiguous_dna)\n",
    "#print(sequence)\n",
    "print(len(mutable_seq))\n",
    "print(mutable_seq[:20])\n",
    "mutable_seq[10] = \"T\"\n",
    "print(\"LLLLLLLLLLLLLLLLLLLLLLLLLLLLLLLLLLLLLLLLLLLLLLLLLLLLLLLLLLLLLLLLLLLLLLLLLLLLLLLLLLLLLLLLLLLLLLLLLLLLLL\")\n",
    "print(mutable_seq[:20])\n",
    "\n",
    "print(\"UUUUUUUUUUUUUUUUUUUUUUUUUUUUUUUUUUUUUUUUUUUUUUUUUUUUUUUUUUUUUUUUUUUUUUUUUUUUUUUUUUUUUUUUUUUUUUUUUUUUUUUU\")\n",
    "print(mutable_seq[:20])\n",
    "new_seq = mutable_seq.toseq()\n",
    "new_seq.id = \"AJ123451\"\n",
    "print(\"WWWWWWWWWWWWWWWWWWWWWWWWWWWWWWWWWWWWWWWWWWWWWWWWWWWWWWWWWWWWWWWWWWWWWWWWWWWWWWWWWWWWWWWWWWWWWWWWWWWWWWWWWW\")\n",
    "print(new_seq.id)\n",
    "simple_seq_req = SeqRecord(new_seq)\n",
    "simple_seq_req.id = 'AJ123451'\n",
    "print(len(simple_seq_req))\n",
    "SeqIO.write(simple_seq_req, \"P001-BRCA1-VAR01.fasta\", \"fasta\")"
   ]
  },
  {
   "cell_type": "code",
   "execution_count": 7,
   "metadata": {},
   "outputs": [],
   "source": [
    "var1_seq_record = SeqIO.read(\"P001-BRCA1-VAR01.fasta\", \"fasta\")"
   ]
  },
  {
   "cell_type": "code",
   "execution_count": 8,
   "metadata": {},
   "outputs": [
    {
     "name": "stdout",
     "output_type": "stream",
     "text": [
      "GCTGAGACTTTCTGGACGGG\n",
      "GCTGAGACTTCCTGGACGGG\n"
     ]
    }
   ],
   "source": [
    "print(var1_seq_record.seq[:20])\n",
    "print(ref_seq_record.seq[:20])"
   ]
  },
  {
   "cell_type": "code",
   "execution_count": null,
   "metadata": {},
   "outputs": [],
   "source": [
    "\n"
   ]
  },
  {
   "cell_type": "code",
   "execution_count": 9,
   "metadata": {},
   "outputs": [
    {
     "name": "stdout",
     "output_type": "stream",
     "text": [
      "7088\n",
      "GCTGAGACTTCCTGGACGGG\n",
      "LLLLLLLLLLLLLLLLLLLLLLLLLLLLLLLLLLLLLLLLLLLLLLLLLLLLLLLLLLLLLLLLLLLLLLLLLLLLLLLLLLLLLLLLLLLLLLLLLLLLLL\n",
      "GCTGAKKKKTCCTGGACGGG\n",
      "UUUUUUUUUUUUUUUUUUUUUUUUUUUUUUUUUUUUUUUUUUUUUUUUUUUUUUUUUUUUUUUUUUUUUUUUUUUUUUUUUUUUUUUUUUUUUUUUUUUUUUUU\n",
      "GCTGATCCTGGACGGGGGAC\n",
      "WWWWWWWWWWWWWWWWWWWWWWWWWWWWWWWWWWWWWWWWWWWWWWWWWWWWWWWWWWWWWWWWWWWWWWWWWWWWWWWWWWWWWWWWWWWWWWWWWWWWWWWWWW\n",
      "AJ123452\n",
      "7084\n"
     ]
    },
    {
     "data": {
      "text/plain": [
       "1"
      ]
     },
     "execution_count": 9,
     "metadata": {},
     "output_type": "execute_result"
    }
   ],
   "source": [
    "#mutable_seq = MutableSeq(\"GCCATTGTAATGGGCCGCTGAAAGGGTGCCCGA\", IUPAC.unambiguous_dna) \n",
    "sequence = ref_seq_record.seq\n",
    "mutable_seq = MutableSeq(str(sequence), IUPAC.unambiguous_dna)\n",
    "#print(sequence)\n",
    "print(len(mutable_seq))\n",
    "print(mutable_seq[:20])\n",
    "mutable_seq[5] = \"K\"\n",
    "mutable_seq[6] = \"K\"\n",
    "mutable_seq[7] = \"K\"\n",
    "mutable_seq[8] = \"K\"\n",
    "print(\"LLLLLLLLLLLLLLLLLLLLLLLLLLLLLLLLLLLLLLLLLLLLLLLLLLLLLLLLLLLLLLLLLLLLLLLLLLLLLLLLLLLLLLLLLLLLLLLLLLLLLL\")\n",
    "print(mutable_seq[:20])\n",
    "mutable_seq.remove(\"K\")\n",
    "mutable_seq.remove(\"K\")\n",
    "mutable_seq.remove(\"K\")\n",
    "mutable_seq.remove(\"K\")\n",
    "print(\"UUUUUUUUUUUUUUUUUUUUUUUUUUUUUUUUUUUUUUUUUUUUUUUUUUUUUUUUUUUUUUUUUUUUUUUUUUUUUUUUUUUUUUUUUUUUUUUUUUUUUUUU\")\n",
    "print(mutable_seq[:20])\n",
    "new_seq = mutable_seq.toseq()\n",
    "new_seq.id = \"AJ123452\"\n",
    "print(\"WWWWWWWWWWWWWWWWWWWWWWWWWWWWWWWWWWWWWWWWWWWWWWWWWWWWWWWWWWWWWWWWWWWWWWWWWWWWWWWWWWWWWWWWWWWWWWWWWWWWWWWWWW\")\n",
    "print(new_seq.id)\n",
    "simple_seq_req = SeqRecord(new_seq)\n",
    "simple_seq_req.id = 'AJ123452'\n",
    "print(len(simple_seq_req))\n",
    "SeqIO.write(simple_seq_req, \"P001-BRCA1-VAR02.fasta\", \"fasta\")"
   ]
  },
  {
   "cell_type": "code",
   "execution_count": 10,
   "metadata": {},
   "outputs": [],
   "source": [
    "var2_seq_record = SeqIO.read(\"P001-BRCA1-VAR02.fasta\", \"fasta\")"
   ]
  },
  {
   "cell_type": "code",
   "execution_count": 11,
   "metadata": {},
   "outputs": [
    {
     "name": "stdout",
     "output_type": "stream",
     "text": [
      "GCTGATCCTGGACGGGGGAC\n",
      "GCTGAGACTTCCTGGACGGG\n"
     ]
    }
   ],
   "source": [
    "print(var2_seq_record.seq[:20])\n",
    "print(ref_seq_record.seq[:20])"
   ]
  },
  {
   "cell_type": "code",
   "execution_count": 12,
   "metadata": {},
   "outputs": [
    {
     "name": "stdout",
     "output_type": "stream",
     "text": [
      "7088\n",
      "GCTGAGACTTCCTGGACGGG\n",
      "LLLLLLLLLLLLLLLLLLLLLLLLLLLLLLLLLLLLLLLLLLLLLLLLLLLLLLLLLLLLLLLLLLLLLLLLLLLLLLLLLLLLLLLLLLLLLLLLLLLLLL\n",
      "GCTGAGACTKKKKGGACGGG\n",
      "UUUUUUUUUUUUUUUUUUUUUUUUUUUUUUUUUUUUUUUUUUUUUUUUUUUUUUUUUUUUUUUUUUUUUUUUUUUUUUUUUUUUUUUUUUUUUUUUUUUUUUUU\n",
      "GCTGAGACTGGACGGGGGAC\n",
      "WWWWWWWWWWWWWWWWWWWWWWWWWWWWWWWWWWWWWWWWWWWWWWWWWWWWWWWWWWWWWWWWWWWWWWWWWWWWWWWWWWWWWWWWWWWWWWWWWWWWWWWWWW\n",
      "AJ123453\n",
      "7084\n"
     ]
    },
    {
     "data": {
      "text/plain": [
       "1"
      ]
     },
     "execution_count": 12,
     "metadata": {},
     "output_type": "execute_result"
    }
   ],
   "source": [
    "sequence = ref_seq_record.seq\n",
    "mutable_seq = MutableSeq(str(sequence), IUPAC.unambiguous_dna)\n",
    "#print(sequence)\n",
    "print(len(mutable_seq))\n",
    "print(mutable_seq[:20])\n",
    "mutable_seq[9] = \"K\"\n",
    "mutable_seq[10] = \"K\"\n",
    "mutable_seq[11] = \"K\"\n",
    "mutable_seq[12] = \"K\"\n",
    "print(\"LLLLLLLLLLLLLLLLLLLLLLLLLLLLLLLLLLLLLLLLLLLLLLLLLLLLLLLLLLLLLLLLLLLLLLLLLLLLLLLLLLLLLLLLLLLLLLLLLLLLLL\")\n",
    "print(mutable_seq[:20])\n",
    "mutable_seq.remove(\"K\")\n",
    "mutable_seq.remove(\"K\")\n",
    "mutable_seq.remove(\"K\")\n",
    "mutable_seq.remove(\"K\")\n",
    "print(\"UUUUUUUUUUUUUUUUUUUUUUUUUUUUUUUUUUUUUUUUUUUUUUUUUUUUUUUUUUUUUUUUUUUUUUUUUUUUUUUUUUUUUUUUUUUUUUUUUUUUUUUU\")\n",
    "print(mutable_seq[:20])\n",
    "new_seq = mutable_seq.toseq()\n",
    "new_seq.id = \"AJ123453\"\n",
    "print(\"WWWWWWWWWWWWWWWWWWWWWWWWWWWWWWWWWWWWWWWWWWWWWWWWWWWWWWWWWWWWWWWWWWWWWWWWWWWWWWWWWWWWWWWWWWWWWWWWWWWWWWWWWW\")\n",
    "print(new_seq.id)\n",
    "simple_seq_req = SeqRecord(new_seq)\n",
    "simple_seq_req.id = 'AJ123453'\n",
    "print(len(simple_seq_req))\n",
    "SeqIO.write(simple_seq_req, \"P001-BRCA1-VAR03.fasta\", \"fasta\")"
   ]
  },
  {
   "cell_type": "code",
   "execution_count": 13,
   "metadata": {},
   "outputs": [],
   "source": [
    "var3_seq_record = SeqIO.read(\"P001-BRCA1-VAR03.fasta\", \"fasta\")"
   ]
  },
  {
   "cell_type": "code",
   "execution_count": 14,
   "metadata": {},
   "outputs": [
    {
     "name": "stdout",
     "output_type": "stream",
     "text": [
      "GCTGAGACTGGACGGGGGAC\n",
      "GCTGAGACTTCCTGGACGGG\n"
     ]
    }
   ],
   "source": [
    "print(var3_seq_record.seq[:20])\n",
    "print(ref_seq_record.seq[:20])"
   ]
  },
  {
   "cell_type": "code",
   "execution_count": 15,
   "metadata": {},
   "outputs": [
    {
     "name": "stdout",
     "output_type": "stream",
     "text": [
      "7088\n",
      "GCTGAGACTTCCTGGACGGG\n",
      "LLLLLLLLLLLLLLLLLLLLLLLLLLLLLLLLLLLLLLLLLLLLLLLLLLLLLLLLLLLLLLLLLLLLLLLLLLLLLLLLLLLLLLLLLLLLLLLLLLLLLL\n",
      "GCTGAGACTTCCTTCCTGGA\n",
      "UUUUUUUUUUUUUUUUUUUUUUUUUUUUUUUUUUUUUUUUUUUUUUUUUUUUUUUUUUUUUUUUUUUUUUUUUUUUUUUUUUUUUUUUUUUUUUUUUUUUUUUU\n",
      "GCTGAGACTTCCTTCCTGGA\n",
      "WWWWWWWWWWWWWWWWWWWWWWWWWWWWWWWWWWWWWWWWWWWWWWWWWWWWWWWWWWWWWWWWWWWWWWWWWWWWWWWWWWWWWWWWWWWWWWWWWWWWWWWWWW\n",
      "AJ123454\n",
      "7092\n"
     ]
    },
    {
     "data": {
      "text/plain": [
       "1"
      ]
     },
     "execution_count": 15,
     "metadata": {},
     "output_type": "execute_result"
    }
   ],
   "source": [
    "sequence = ref_seq_record.seq\n",
    "mutable_seq = MutableSeq(str(sequence), IUPAC.unambiguous_dna)\n",
    "#print(sequence)\n",
    "print(len(mutable_seq))\n",
    "print(mutable_seq[:20])\n",
    "mutable_seq.insert(9,\"T\")\n",
    "mutable_seq.insert(10,\"C\")\n",
    "mutable_seq.insert(11,\"C\")\n",
    "mutable_seq.insert(12,\"T\")\n",
    "\n",
    "print(\"LLLLLLLLLLLLLLLLLLLLLLLLLLLLLLLLLLLLLLLLLLLLLLLLLLLLLLLLLLLLLLLLLLLLLLLLLLLLLLLLLLLLLLLLLLLLLLLLLLLLLL\")\n",
    "print(mutable_seq[:20])\n",
    "\n",
    "print(\"UUUUUUUUUUUUUUUUUUUUUUUUUUUUUUUUUUUUUUUUUUUUUUUUUUUUUUUUUUUUUUUUUUUUUUUUUUUUUUUUUUUUUUUUUUUUUUUUUUUUUUUU\")\n",
    "print(mutable_seq[:20])\n",
    "new_seq = mutable_seq.toseq()\n",
    "new_seq.id = \"AJ123454\"\n",
    "print(\"WWWWWWWWWWWWWWWWWWWWWWWWWWWWWWWWWWWWWWWWWWWWWWWWWWWWWWWWWWWWWWWWWWWWWWWWWWWWWWWWWWWWWWWWWWWWWWWWWWWWWWWWWW\")\n",
    "print(new_seq.id)\n",
    "simple_seq_req = SeqRecord(new_seq)\n",
    "simple_seq_req.id = 'AJ123454'\n",
    "print(len(simple_seq_req))\n",
    "SeqIO.write(simple_seq_req, \"P001-BRCA1-VAR04.fasta\", \"fasta\")"
   ]
  },
  {
   "cell_type": "code",
   "execution_count": 16,
   "metadata": {},
   "outputs": [],
   "source": [
    "var4_seq_record = SeqIO.read(\"P001-BRCA1-VAR04.fasta\", \"fasta\")"
   ]
  },
  {
   "cell_type": "code",
   "execution_count": 17,
   "metadata": {},
   "outputs": [
    {
     "name": "stdout",
     "output_type": "stream",
     "text": [
      "GCTGAGACTTCCTTCCTGGACGGGGGACAGGCTGTGGGGT\n",
      "GCTGAGACTTCCTGGACGGGGGACAGGCTGTGGGGTTTCT\n"
     ]
    }
   ],
   "source": [
    "print(var4_seq_record.seq[:40])\n",
    "print(ref_seq_record.seq[:40])"
   ]
  },
  {
   "cell_type": "code",
   "execution_count": 18,
   "metadata": {},
   "outputs": [
    {
     "name": "stdout",
     "output_type": "stream",
     "text": [
      "7088\n",
      "GCTGAGACTTCCTGGACGGGGGACAGGCTG\n",
      "LLLLLLLLLLLLLLLLLLLLLLLLLLLLLLLLLLLLLLLLLLLLLLLLLLLLLLLLLLLLLLLLLLLLLLLLLLLLLLLLLLLLLLLLLLLLLLLLLLLLLL\n",
      "GCTGAGACTTCCTGGACGGACGGGGGACAG\n",
      "UUUUUUUUUUUUUUUUUUUUUUUUUUUUUUUUUUUUUUUUUUUUUUUUUUUUUUUUUUUUUUUUUUUUUUUUUUUUUUUUUUUUUUUUUUUUUUUUUUUUUUUU\n",
      "GCTGAGACTTCCTGGACGGACGGGGGACAG\n",
      "WWWWWWWWWWWWWWWWWWWWWWWWWWWWWWWWWWWWWWWWWWWWWWWWWWWWWWWWWWWWWWWWWWWWWWWWWWWWWWWWWWWWWWWWWWWWWWWWWWWWWWWWWW\n",
      "AJ123455\n",
      "7092\n"
     ]
    },
    {
     "data": {
      "text/plain": [
       "1"
      ]
     },
     "execution_count": 18,
     "metadata": {},
     "output_type": "execute_result"
    }
   ],
   "source": [
    "sequence = ref_seq_record.seq\n",
    "mutable_seq = MutableSeq(str(sequence), IUPAC.unambiguous_dna)\n",
    "#print(sequence)\n",
    "print(len(mutable_seq))\n",
    "print(mutable_seq[:30])\n",
    "mutable_seq.insert(13,\"G\")\n",
    "mutable_seq.insert(14,\"G\")\n",
    "mutable_seq.insert(15,\"A\")\n",
    "mutable_seq.insert(16,\"C\")\n",
    "print(\"LLLLLLLLLLLLLLLLLLLLLLLLLLLLLLLLLLLLLLLLLLLLLLLLLLLLLLLLLLLLLLLLLLLLLLLLLLLLLLLLLLLLLLLLLLLLLLLLLLLLLL\")\n",
    "print(mutable_seq[:30])\n",
    "\n",
    "print(\"UUUUUUUUUUUUUUUUUUUUUUUUUUUUUUUUUUUUUUUUUUUUUUUUUUUUUUUUUUUUUUUUUUUUUUUUUUUUUUUUUUUUUUUUUUUUUUUUUUUUUUUU\")\n",
    "print(mutable_seq[:30])\n",
    "new_seq = mutable_seq.toseq()\n",
    "new_seq.id = \"AJ123455\"\n",
    "print(\"WWWWWWWWWWWWWWWWWWWWWWWWWWWWWWWWWWWWWWWWWWWWWWWWWWWWWWWWWWWWWWWWWWWWWWWWWWWWWWWWWWWWWWWWWWWWWWWWWWWWWWWWWW\")\n",
    "print(new_seq.id)\n",
    "simple_seq_req = SeqRecord(new_seq)\n",
    "simple_seq_req.id = 'AJ123455'\n",
    "print(len(simple_seq_req))\n",
    "SeqIO.write(simple_seq_req, \"P001-BRCA1-VAR05.fasta\", \"fasta\")"
   ]
  },
  {
   "cell_type": "code",
   "execution_count": 19,
   "metadata": {},
   "outputs": [],
   "source": [
    "var5_seq_record = SeqIO.read(\"P001-BRCA1-VAR05.fasta\", \"fasta\")"
   ]
  },
  {
   "cell_type": "code",
   "execution_count": 20,
   "metadata": {},
   "outputs": [
    {
     "name": "stdout",
     "output_type": "stream",
     "text": [
      "GCTGAGACTTCCTGGACGGACGGGGGACAGGCTGTGGGGT\n",
      "GCTGAGACTTCCTGGACGGGGGACAGGCTGTGGGGTTTCT\n"
     ]
    }
   ],
   "source": [
    "print(var5_seq_record.seq[:40])\n",
    "print(ref_seq_record.seq[:40])"
   ]
  },
  {
   "cell_type": "code",
   "execution_count": 21,
   "metadata": {},
   "outputs": [
    {
     "name": "stdout",
     "output_type": "stream",
     "text": [
      "7088\n",
      "GCTGAGACTTCCTGGACGGGGGACAGGCTG\n",
      "LLLLLLLLLLLLLLLLLLLLLLLLLLLLLLLLLLLLLLLLLLLLLLLLLLLLLLLLLLLLLLLLLLLLLLLLLLLLLLLLLLLLLLLLLLLLLLLLLLLLLL\n",
      "GCTGAGACTTCCTATATATGGACGGGGGAC\n",
      "UUUUUUUUUUUUUUUUUUUUUUUUUUUUUUUUUUUUUUUUUUUUUUUUUUUUUUUUUUUUUUUUUUUUUUUUUUUUUUUUUUUUUUUUUUUUUUUUUUUUUUUU\n",
      "GCTGAGACTTCCTATATATGGACGGGGGAC\n",
      "WWWWWWWWWWWWWWWWWWWWWWWWWWWWWWWWWWWWWWWWWWWWWWWWWWWWWWWWWWWWWWWWWWWWWWWWWWWWWWWWWWWWWWWWWWWWWWWWWWWWWWWWWW\n",
      "AJ123456\n",
      "7094\n"
     ]
    },
    {
     "data": {
      "text/plain": [
       "1"
      ]
     },
     "execution_count": 21,
     "metadata": {},
     "output_type": "execute_result"
    }
   ],
   "source": [
    "sequence = ref_seq_record.seq\n",
    "mutable_seq = MutableSeq(str(sequence), IUPAC.unambiguous_dna)\n",
    "#print(sequence)\n",
    "print(len(mutable_seq))\n",
    "print(mutable_seq[:30])\n",
    "mutable_seq.insert(13,\"A\")\n",
    "mutable_seq.insert(14,\"T\")\n",
    "mutable_seq.insert(15,\"A\")\n",
    "mutable_seq.insert(16,\"T\")\n",
    "mutable_seq.insert(17,\"A\")\n",
    "mutable_seq.insert(18,\"T\")\n",
    "print(\"LLLLLLLLLLLLLLLLLLLLLLLLLLLLLLLLLLLLLLLLLLLLLLLLLLLLLLLLLLLLLLLLLLLLLLLLLLLLLLLLLLLLLLLLLLLLLLLLLLLLLL\")\n",
    "print(mutable_seq[:30])\n",
    "\n",
    "print(\"UUUUUUUUUUUUUUUUUUUUUUUUUUUUUUUUUUUUUUUUUUUUUUUUUUUUUUUUUUUUUUUUUUUUUUUUUUUUUUUUUUUUUUUUUUUUUUUUUUUUUUUU\")\n",
    "print(mutable_seq[:30])\n",
    "new_seq = mutable_seq.toseq()\n",
    "new_seq.id = \"AJ123456\"\n",
    "print(\"WWWWWWWWWWWWWWWWWWWWWWWWWWWWWWWWWWWWWWWWWWWWWWWWWWWWWWWWWWWWWWWWWWWWWWWWWWWWWWWWWWWWWWWWWWWWWWWWWWWWWWWWWW\")\n",
    "print(new_seq.id)\n",
    "simple_seq_req = SeqRecord(new_seq)\n",
    "simple_seq_req.id = 'AJ123456'\n",
    "print(len(simple_seq_req))\n",
    "SeqIO.write(simple_seq_req, \"P001-BRCA1-VAR06.fasta\", \"fasta\")"
   ]
  },
  {
   "cell_type": "code",
   "execution_count": 22,
   "metadata": {},
   "outputs": [],
   "source": [
    "var6_seq_record = SeqIO.read(\"P001-BRCA1-VAR06.fasta\", \"fasta\")"
   ]
  },
  {
   "cell_type": "code",
   "execution_count": 23,
   "metadata": {},
   "outputs": [
    {
     "name": "stdout",
     "output_type": "stream",
     "text": [
      "GCTGAGACTTCCTATATATGGACGGGGGACAGGCTGTGGG\n",
      "GCTGAGACTTCCTGGACGGGGGACAGGCTGTGGGGTTTCT\n"
     ]
    }
   ],
   "source": [
    "print(var6_seq_record.seq[:40])\n",
    "print(ref_seq_record.seq[:40])"
   ]
  },
  {
   "cell_type": "code",
   "execution_count": 24,
   "metadata": {},
   "outputs": [
    {
     "name": "stdout",
     "output_type": "stream",
     "text": [
      "7088\n",
      "GCTGAGACTTCCTGGACGGG\n",
      "LLLLLLLLLLLLLLLLLLLLLLLLLLLLLLLLLLLLLLLLLLLLLLLLLLLLLLLLLLLLLLLLLLLLLLLLLLLLLLLLLLLLLLLLLLLLLLLLLLLLLL\n",
      "GCTGAGACTKKGGAACTGGA\n",
      "UUUUUUUUUUUUUUUUUUUUUUUUUUUUUUUUUUUUUUUUUUUUUUUUUUUUUUUUUUUUUUUUUUUUUUUUUUUUUUUUUUUUUUUUUUUUUUUUUUUUUUUU\n",
      "GCTGAGACTGGAACTGGACG\n",
      "WWWWWWWWWWWWWWWWWWWWWWWWWWWWWWWWWWWWWWWWWWWWWWWWWWWWWWWWWWWWWWWWWWWWWWWWWWWWWWWWWWWWWWWWWWWWWWWWWWWWWWWWWW\n",
      "AJ123457\n",
      "7090\n"
     ]
    },
    {
     "data": {
      "text/plain": [
       "1"
      ]
     },
     "execution_count": 24,
     "metadata": {},
     "output_type": "execute_result"
    }
   ],
   "source": [
    "sequence = ref_seq_record.seq\n",
    "mutable_seq = MutableSeq(str(sequence), IUPAC.unambiguous_dna)\n",
    "#print(sequence)\n",
    "print(len(mutable_seq))\n",
    "print(mutable_seq[:20])\n",
    "mutable_seq[9] = \"K\"\n",
    "mutable_seq[10] = \"K\"\n",
    "mutable_seq.insert(11,\"G\")\n",
    "mutable_seq.insert(12,\"G\")\n",
    "mutable_seq.insert(13,\"A\")\n",
    "mutable_seq.insert(14,\"A\")\n",
    "print(\"LLLLLLLLLLLLLLLLLLLLLLLLLLLLLLLLLLLLLLLLLLLLLLLLLLLLLLLLLLLLLLLLLLLLLLLLLLLLLLLLLLLLLLLLLLLLLLLLLLLLLL\")\n",
    "print(mutable_seq[:20])\n",
    "mutable_seq.remove(\"K\")\n",
    "mutable_seq.remove(\"K\")\n",
    "\n",
    "print(\"UUUUUUUUUUUUUUUUUUUUUUUUUUUUUUUUUUUUUUUUUUUUUUUUUUUUUUUUUUUUUUUUUUUUUUUUUUUUUUUUUUUUUUUUUUUUUUUUUUUUUUUU\")\n",
    "print(mutable_seq[:20])\n",
    "new_seq = mutable_seq.toseq()\n",
    "new_seq.id = \"AJ123457\"\n",
    "print(\"WWWWWWWWWWWWWWWWWWWWWWWWWWWWWWWWWWWWWWWWWWWWWWWWWWWWWWWWWWWWWWWWWWWWWWWWWWWWWWWWWWWWWWWWWWWWWWWWWWWWWWWWWW\")\n",
    "print(new_seq.id)\n",
    "simple_seq_req = SeqRecord(new_seq)\n",
    "simple_seq_req.id = 'AJ123457'\n",
    "print(len(simple_seq_req))\n",
    "SeqIO.write(simple_seq_req, \"P001-BRCA1-VAR07.fasta\", \"fasta\")\n",
    "#SeqIO.write(simple_seq_req, \"P001-BRCA1-VAR07.fasta\", \"fasta\")"
   ]
  },
  {
   "cell_type": "code",
   "execution_count": 25,
   "metadata": {},
   "outputs": [],
   "source": [
    "var7_seq_record = SeqIO.read(\"P001-BRCA1-VAR07.fasta\", \"fasta\")"
   ]
  },
  {
   "cell_type": "code",
   "execution_count": 26,
   "metadata": {},
   "outputs": [
    {
     "name": "stdout",
     "output_type": "stream",
     "text": [
      "GCTGAGACTGGAACTGGACGGGGGACAGGCTGTGGGGTTT\n",
      "GCTGAGACTTCCTGGACGGGGGACAGGCTGTGGGGTTTCT\n"
     ]
    }
   ],
   "source": [
    "print(var7_seq_record.seq[:40])\n",
    "print(ref_seq_record.seq[:40])"
   ]
  },
  {
   "cell_type": "code",
   "execution_count": 27,
   "metadata": {},
   "outputs": [
    {
     "data": {
      "text/plain": [
       "'\\n7139552740\\n7139552741\\n2816353159\\n'"
      ]
     },
     "execution_count": 27,
     "metadata": {},
     "output_type": "execute_result"
    }
   ],
   "source": [
    "'''\n",
    "7139552740\n",
    "7139552741\n",
    "2816353159\n",
    "'''"
   ]
  },
  {
   "cell_type": "code",
   "execution_count": 33,
   "metadata": {},
   "outputs": [
    {
     "name": "stdout",
     "output_type": "stream",
     "text": [
      "7088\n",
      "GCTGAGACTTCCTGGACGGG\n",
      "LLLLLLLLLLLLLLLLLLLLLLLLLLLLLLLLLLLLLLLLLLLLLLLLLLLLLLLLLLLLLLLLLLLLLLLLLLLLLLLLLLLLLLLLLLLLLLLLLLLLLL\n",
      "GCTGAGACTKKTAGCCTGGA\n",
      "UUUUUUUUUUUUUUUUUUUUUUUUUUUUUUUUUUUUUUUUUUUUUUUUUUUUUUUUUUUUUUUUUUUUUUUUUUUUUUUUUUUUUUUUUUUUUUUUUUUUUUUU\n",
      "GCTGAGACTTAGCCTGGACG\n",
      "WWWWWWWWWWWWWWWWWWWWWWWWWWWWWWWWWWWWWWWWWWWWWWWWWWWWWWWWWWWWWWWWWWWWWWWWWWWWWWWWWWWWWWWWWWWWWWWWWWWWWWWWWW\n",
      "AJ123457\n",
      "7090\n"
     ]
    },
    {
     "data": {
      "text/plain": [
       "1"
      ]
     },
     "execution_count": 33,
     "metadata": {},
     "output_type": "execute_result"
    }
   ],
   "source": [
    "sequence = ref_seq_record.seq\n",
    "mutable_seq = MutableSeq(str(sequence), IUPAC.unambiguous_dna)\n",
    "#print(sequence)\n",
    "print(len(mutable_seq))\n",
    "print(mutable_seq[:20])\n",
    "mutable_seq[9] = \"K\"\n",
    "mutable_seq[10] = \"K\"\n",
    "mutable_seq.insert(11,\"T\")\n",
    "mutable_seq.insert(12,\"A\")\n",
    "mutable_seq.insert(13,\"G\")\n",
    "mutable_seq.insert(14,\"C\")\n",
    "print(\"LLLLLLLLLLLLLLLLLLLLLLLLLLLLLLLLLLLLLLLLLLLLLLLLLLLLLLLLLLLLLLLLLLLLLLLLLLLLLLLLLLLLLLLLLLLLLLLLLLLLLL\")\n",
    "print(mutable_seq[:20])\n",
    "mutable_seq.remove(\"K\")\n",
    "mutable_seq.remove(\"K\")\n",
    "\n",
    "print(\"UUUUUUUUUUUUUUUUUUUUUUUUUUUUUUUUUUUUUUUUUUUUUUUUUUUUUUUUUUUUUUUUUUUUUUUUUUUUUUUUUUUUUUUUUUUUUUUUUUUUUUUU\")\n",
    "print(mutable_seq[:20])\n",
    "new_seq = mutable_seq.toseq()\n",
    "new_seq.id = \"AJ123457\"\n",
    "print(\"WWWWWWWWWWWWWWWWWWWWWWWWWWWWWWWWWWWWWWWWWWWWWWWWWWWWWWWWWWWWWWWWWWWWWWWWWWWWWWWWWWWWWWWWWWWWWWWWWWWWWWWWWW\")\n",
    "print(new_seq.id)\n",
    "simple_seq_req = SeqRecord(new_seq)\n",
    "simple_seq_req.id = 'AJ123457'\n",
    "print(len(simple_seq_req))\n",
    "SeqIO.write(simple_seq_req, \"P001-BRCA1-VAR08.fasta\", \"fasta\")\n",
    "#SeqIO.write(simple_seq_req, \"P001-BRCA1-VAR08.fasta\", \"fasta\")"
   ]
  },
  {
   "cell_type": "code",
   "execution_count": 31,
   "metadata": {},
   "outputs": [
    {
     "name": "stdout",
     "output_type": "stream",
     "text": [
      "GCTGAGACTATGCCTGGACGGGGGACAGGCTGTGGGGTTT\n",
      "GCTGAGACTTCCTGGACGGGGGACAGGCTGTGGGGTTTCT\n"
     ]
    }
   ],
   "source": [
    "var8_seq_record = SeqIO.read(\"P001-BRCA1-VAR08.fasta\", \"fasta\")\n",
    "print(var8_seq_record.seq[:40])\n",
    "print(ref_seq_record.seq[:40])"
   ]
  },
  {
   "cell_type": "code",
   "execution_count": null,
   "metadata": {},
   "outputs": [],
   "source": []
  }
 ],
 "metadata": {
  "kernelspec": {
   "display_name": "Python 3",
   "language": "python",
   "name": "python3"
  },
  "language_info": {
   "codemirror_mode": {
    "name": "ipython",
    "version": 3
   },
   "file_extension": ".py",
   "mimetype": "text/x-python",
   "name": "python",
   "nbconvert_exporter": "python",
   "pygments_lexer": "ipython3",
   "version": "3.7.7"
  }
 },
 "nbformat": 4,
 "nbformat_minor": 4
}
