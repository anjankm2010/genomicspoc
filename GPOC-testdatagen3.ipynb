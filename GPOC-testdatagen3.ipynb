{
 "cells": [
  {
   "cell_type": "code",
   "execution_count": 1,
   "metadata": {},
   "outputs": [
    {
     "name": "stdout",
     "output_type": "stream",
     "text": [
      "1.77\n"
     ]
    }
   ],
   "source": [
    "import Bio\n",
    "print(Bio.__version__)\n",
    "from Bio.Seq import Seq\n",
    "from Bio import SeqIO\n",
    "from Bio.Alphabet import IUPAC\n",
    "from Bio.Alphabet import generic_nucleotide\n",
    "from Bio import Align\n",
    "from Bio.SeqRecord import SeqRecord\n",
    "from Bio.Seq import MutableSeq\n",
    "from Bio.Alphabet import generic_dna\n",
    "import re\n",
    "from Bio import pairwise2\n",
    "from Bio.pairwise2 import format_alignment"
   ]
  },
  {
   "cell_type": "code",
   "execution_count": 2,
   "metadata": {},
   "outputs": [],
   "source": [
    "'''\n",
    "for seq_record in SeqIO.parse(\"BRCA1-REF.fasta\", \"fasta\"):\n",
    "    print(seq_record.id)\n",
    "    print(repr(seq_record.seq))\n",
    "    print(len(seq_record))\n",
    "'''\n",
    "   \n",
    "ref_seq_record = SeqIO.read(\"BRCA1-REF.fasta\", \"fasta\")"
   ]
  },
  {
   "cell_type": "code",
   "execution_count": 3,
   "metadata": {},
   "outputs": [
    {
     "name": "stdout",
     "output_type": "stream",
     "text": [
      "GCTGAGACTTCCTGGACGGGGGACAGGCTGTGGGGTTTCTCAGATAACTGGGCCCCTGCGCTCAGGAGGCCTTCACCCTC\n",
      "AGATAACTGGGCCCCTGCG\n",
      "LLLLLLLLLLLLLLLLLLLLLLLLLLLLLLLLLLLLLLLLLLLLLLLLLLLLLLLLLLLLLLLLLLLLLLLLLLLLLLLLLLLLLLLLLLLLLLLLLLLLLL\n",
      "CGCAGGGGCCCAGTTATCT\n",
      "UUUUUUUUUUUUUUUUUUUUUUUUUUUUUUUUUUUUUUUUUUUUUUUUUUUUUUUUUUUUUUUUUUUUUUUUUUUUUUUUUUUUUUUUUUUUUUUUUUUUUUUU\n",
      "WWWWWWWWWWWWWWWWWWWWWWWWWWWWWWWWWWWWWWWWWWWWWWWWWWWWWWWWWWWWWWWWWWWWWWWWWWWWWWWWWWWWWWWWWWWWWWWWWWWWWWWWWW\n",
      "GCTGAGACTTCCTGGACGGGGGACAGGCTGTGGGGTTTCTC\n",
      "CTCAGGAGGCCTTCACCCTCTGCTCTGGGTAAAGTTCATT\n",
      "7088\n",
      "GCTGAGACTTCCTGGACGGGGGACAGGCTGTGGGGTTTCTC\n",
      "GCTGAGACTTCCTGGACGGGGGACAGGCTGTGGGGTTTCTC\n",
      "AGATAACTGGGCCCCTGCG\n",
      "AGATAACTGGGCCCCTGCG\n",
      "CTCAGGAGGCCTTCACCCTC\n",
      "CTCAGGAGGCCTTCACCCTC\n",
      "GCTGAGACTTCCTGGACGGGGGACAGGCTGTGGGGTTTCTCAGATAACTGGGCCCCTGCGCTCAGGAGGCCTTCACCCTC\n",
      "GCTGAGACTTCCTGGACGGGGGACAGGCTGTGGGGTTTCTCCGCAGGGGCCCAGTTATCTCTCAGGAGGCCTTCACCCTC\n"
     ]
    }
   ],
   "source": [
    "#mutable_seq = MutableSeq(\"GCCATTGTAATGGGCCGCTGAAAGGGTGCCCGA\", IUPAC.unambiguous_dna) \n",
    "#c.4145_4160inv --- inversion (reverse complement)\n",
    "\n",
    "sequence = ref_seq_record.seq\n",
    "seqsection = sequence[41:60]\n",
    "print(sequence[:80])\n",
    "print(seqsection)\n",
    "inversion_seq = seqsection.reverse_complement()\n",
    "\n",
    "print(\"LLLLLLLLLLLLLLLLLLLLLLLLLLLLLLLLLLLLLLLLLLLLLLLLLLLLLLLLLLLLLLLLLLLLLLLLLLLLLLLLLLLLLLLLLLLLLLLLLLLLLL\")\n",
    "print(inversion_seq)\n",
    "\n",
    "print(\"UUUUUUUUUUUUUUUUUUUUUUUUUUUUUUUUUUUUUUUUUUUUUUUUUUUUUUUUUUUUUUUUUUUUUUUUUUUUUUUUUUUUUUUUUUUUUUUUUUUUUUUU\")\n",
    "\n",
    "new_seq1 = sequence[:41]\n",
    "new_seq2 = sequence[60:]\n",
    "\n",
    "print(\"WWWWWWWWWWWWWWWWWWWWWWWWWWWWWWWWWWWWWWWWWWWWWWWWWWWWWWWWWWWWWWWWWWWWWWWWWWWWWWWWWWWWWWWWWWWWWWWWWWWWWWWWWW\")\n",
    "print(new_seq1)\n",
    "print(new_seq2[:40])\n",
    "simple_seq_req = SeqRecord(new_seq1+inversion_seq+new_seq2)\n",
    "simple_seq_req.id = 'AJ123451'\n",
    "print(len(simple_seq_req))\n",
    "SeqIO.write(simple_seq_req, \"P003-BRCA1-VAR09.fasta\", \"fasta\")\n",
    "print(sequence[:41])\n",
    "print(simple_seq_req.seq[:41])\n",
    "print(sequence[41:60])\n",
    "print(simple_seq_req.seq[41:60].reverse_complement())\n",
    "print(sequence[60:80])\n",
    "print(simple_seq_req.seq[60:80])\n",
    "print(sequence[:80])\n",
    "print(simple_seq_req.seq[:80])"
   ]
  },
  {
   "cell_type": "code",
   "execution_count": 4,
   "metadata": {},
   "outputs": [
    {
     "name": "stdout",
     "output_type": "stream",
     "text": [
      "GCTGAGACTTCCTGGACGGGGGACAGGCTGTGGGGTTTCTCAGATAACTGGGCCCCTGCGCTCAGGAGGCCTTCACCCTCTGCTCTGGGTAAAGTTCATTGGAACAGAAA\n",
      "GCTGAGACTTCCTGGACGGGGGACAGGCTGTGGGGTTTCTC\n",
      "AGATAACTGGGCCCCTGCG\n",
      "CTCAGGAGGCCTTCACCCTCT\n",
      "GCTCTGGGTAAAGTTCATT\n",
      "GGAACAGAAAGAAATGGATTTATCTGCTCT\n",
      "LLLLLLLLLLLLLLLLLLLLLLLLLLLLLLLLLLLLLLLLLLLLLLLLLLLLLLLLLLLLLLLLLLLLLLLLLLLLLLLLLLLLLLLLLLLLLLLLLLLLLL\n",
      "7088\n",
      "GCTGAGACTTCCTGGACGGGGGACAGGCTGTGGGGTTTCTC\n",
      "GCTGAGACTTCCTGGACGGGGGACAGGCTGTGGGGTTTCTC\n",
      "AGATAACTGGGCCCCTGCG\n",
      "GCTCTGGGTAAAGTTCATT\n",
      "CTCAGGAGGCCTTCACCCTCT\n",
      "CTCAGGAGGCCTTCACCCTCT\n",
      "GCTCTGGGTAAAGTTCATT\n",
      "GCTCTGGGTAAAGTTCATT\n",
      "GGAACAGAAAGAAATGGATT\n",
      "AAAGTTCATTGGAACAGAAAGAAATGGATT\n"
     ]
    }
   ],
   "source": [
    "#c.0812_0829con0908_0925 --- conversion\n",
    "\n",
    "sequence = ref_seq_record.seq\n",
    "seqsection1 = sequence[:41]\n",
    "seqsection2 = sequence[41:60]\n",
    "seqsection3 = sequence[60:81]\n",
    "seqsection4 = sequence[81:100]\n",
    "seqsection5 = sequence[100:]\n",
    "\n",
    "print(sequence[:110])\n",
    "print(seqsection1)\n",
    "print(seqsection2)\n",
    "print(seqsection3)\n",
    "print(seqsection4)\n",
    "print(seqsection5[:30])\n",
    "\n",
    "print(\"LLLLLLLLLLLLLLLLLLLLLLLLLLLLLLLLLLLLLLLLLLLLLLLLLLLLLLLLLLLLLLLLLLLLLLLLLLLLLLLLLLLLLLLLLLLLLLLLLLLLLL\")\n",
    "\n",
    "\n",
    "simple_seq_req = SeqRecord(seqsection1+seqsection4+seqsection3+seqsection4+seqsection5)\n",
    "simple_seq_req.id = 'AJ123451'\n",
    "print(len(simple_seq_req))\n",
    "SeqIO.write(simple_seq_req, \"P003-BRCA1-VAR10.fasta\", \"fasta\")\n",
    "print(sequence[:41])\n",
    "print(simple_seq_req.seq[:41])\n",
    "print(sequence[41:60])\n",
    "print(simple_seq_req.seq[41:60])\n",
    "print(sequence[60:81])\n",
    "print(simple_seq_req.seq[60:81])\n",
    "print(sequence[81:100])\n",
    "print(simple_seq_req.seq[81:100])\n",
    "print(sequence[100:120])\n",
    "print(simple_seq_req.seq[90:120])"
   ]
  },
  {
   "cell_type": "code",
   "execution_count": 5,
   "metadata": {},
   "outputs": [
    {
     "name": "stdout",
     "output_type": "stream",
     "text": [
      "GCTGAGACTTCCTGGACGGGGGACAGGCTGTGGGGTTTCTCGCTCTGGGTAAAGTTCATTCTCAGGAGGCCTTCACCCTCTGCTCTGGGTAAAGTTCATT\n",
      "GCTGAGACTTCCTGGACGGGGGACAGGCTGTGGGGTTTCTCAGATAACTGGGCCCCTGCGCTCAGGAGGCCTTCACCCTCTGCTCTGGGTAAAGTTCATT\n"
     ]
    }
   ],
   "source": [
    "var_seq_record = SeqIO.read(\"P003-BRCA1-VAR10.fasta\", \"fasta\")\n",
    "print(var_seq_record.seq[:100])\n",
    "print(ref_seq_record.seq[:100])"
   ]
  },
  {
   "cell_type": "code",
   "execution_count": 6,
   "metadata": {},
   "outputs": [
    {
     "name": "stdout",
     "output_type": "stream",
     "text": [
      "7088\n",
      "GCTGAGACTTCCTGGACGGGGGACAGGCTGTGGGGTTTCT\n",
      "LLLLLLLLLLLLLLLLLLLLLLLLLLLLLLLLLLLLLLLLLLLLLLLLLLLLLLLLLLLLLLLLLLLLLLLLLLLLLLLLLLLLLLLLLLLLLLLLLLLLLL\n",
      "GCTGAGACTTCCTGGACGGGGGACAGGCTGAGGGGTTTCT\n",
      "UUUUUUUUUUUUUUUUUUUUUUUUUUUUUUUUUUUUUUUUUUUUUUUUUUUUUUUUUUUUUUUUUUUUUUUUUUUUUUUUUUUUUUUUUUUUUUUUUUUUUUUU\n",
      "GCTGAGACTTCCTGGACGGGGGACAGGCTGAGGGGTTTCT\n",
      "WWWWWWWWWWWWWWWWWWWWWWWWWWWWWWWWWWWWWWWWWWWWWWWWWWWWWWWWWWWWWWWWWWWWWWWWWWWWWWWWWWWWWWWWWWWWWWWWWWWWWWWWWW\n",
      "AJ123451\n",
      "7088\n"
     ]
    },
    {
     "data": {
      "text/plain": [
       "1"
      ]
     },
     "execution_count": 6,
     "metadata": {},
     "output_type": "execute_result"
    }
   ],
   "source": [
    "#mutable_seq = MutableSeq(\"GCCATTGTAATGGGCCGCTGAAAGGGTGCCCGA\", IUPAC.unambiguous_dna) \n",
    "sequence = ref_seq_record.seq\n",
    "mutable_seq = MutableSeq(str(sequence), IUPAC.unambiguous_dna)\n",
    "#print(sequence)\n",
    "print(len(mutable_seq))\n",
    "print(mutable_seq[:40])\n",
    "mutable_seq[30] = \"A\"\n",
    "print(\"LLLLLLLLLLLLLLLLLLLLLLLLLLLLLLLLLLLLLLLLLLLLLLLLLLLLLLLLLLLLLLLLLLLLLLLLLLLLLLLLLLLLLLLLLLLLLLLLLLLLLL\")\n",
    "print(mutable_seq[:40])\n",
    "\n",
    "print(\"UUUUUUUUUUUUUUUUUUUUUUUUUUUUUUUUUUUUUUUUUUUUUUUUUUUUUUUUUUUUUUUUUUUUUUUUUUUUUUUUUUUUUUUUUUUUUUUUUUUUUUUU\")\n",
    "print(mutable_seq[:40])\n",
    "new_seq = mutable_seq.toseq()\n",
    "new_seq.id = \"AJ123451\"\n",
    "print(\"WWWWWWWWWWWWWWWWWWWWWWWWWWWWWWWWWWWWWWWWWWWWWWWWWWWWWWWWWWWWWWWWWWWWWWWWWWWWWWWWWWWWWWWWWWWWWWWWWWWWWWWWWW\")\n",
    "print(new_seq.id)\n",
    "simple_seq_req = SeqRecord(new_seq)\n",
    "simple_seq_req.id = 'AJ123451'\n",
    "print(len(simple_seq_req))\n",
    "SeqIO.write(simple_seq_req, \"P003-BRCA1-VAR01.fasta\", \"fasta\")"
   ]
  },
  {
   "cell_type": "code",
   "execution_count": 7,
   "metadata": {},
   "outputs": [],
   "source": [
    "var1_seq_record = SeqIO.read(\"P003-BRCA1-VAR01.fasta\", \"fasta\")"
   ]
  },
  {
   "cell_type": "code",
   "execution_count": 8,
   "metadata": {},
   "outputs": [
    {
     "name": "stdout",
     "output_type": "stream",
     "text": [
      "GCTGAGACTTCCTGGACGGGGGACAGGCTGA\n",
      "GCTGAGACTTCCTGGACGGGGGACAGGCTGT\n"
     ]
    }
   ],
   "source": [
    "print(var1_seq_record.seq[:31])\n",
    "print(ref_seq_record.seq[:31])"
   ]
  },
  {
   "cell_type": "code",
   "execution_count": null,
   "metadata": {},
   "outputs": [],
   "source": [
    "\n"
   ]
  },
  {
   "cell_type": "code",
   "execution_count": 9,
   "metadata": {},
   "outputs": [
    {
     "name": "stdout",
     "output_type": "stream",
     "text": [
      "7088\n",
      "GCTGAGACTTCCTGGACGGG\n",
      "LLLLLLLLLLLLLLLLLLLLLLLLLLLLLLLLLLLLLLLLLLLLLLLLLLLLLLLLLLLLLLLLLLLLLLLLLLLLLLLLLLLLLLLLLLLLLLLLLLLLLL\n",
      "GCTGAGACTTCCTGGACGGGGGACAKKKKGTGGGGTTTCT\n",
      "UUUUUUUUUUUUUUUUUUUUUUUUUUUUUUUUUUUUUUUUUUUUUUUUUUUUUUUUUUUUUUUUUUUUUUUUUUUUUUUUUUUUUUUUUUUUUUUUUUUUUUUU\n",
      "GCTGAGACTTCCTGGACGGGGGACAGTGGGGTTTCTCAGA\n",
      "WWWWWWWWWWWWWWWWWWWWWWWWWWWWWWWWWWWWWWWWWWWWWWWWWWWWWWWWWWWWWWWWWWWWWWWWWWWWWWWWWWWWWWWWWWWWWWWWWWWWWWWWWW\n",
      "AJ123452\n",
      "7084\n"
     ]
    },
    {
     "data": {
      "text/plain": [
       "1"
      ]
     },
     "execution_count": 9,
     "metadata": {},
     "output_type": "execute_result"
    }
   ],
   "source": [
    "#mutable_seq = MutableSeq(\"GCCATTGTAATGGGCCGCTGAAAGGGTGCCCGA\", IUPAC.unambiguous_dna) \n",
    "sequence = ref_seq_record.seq\n",
    "mutable_seq = MutableSeq(str(sequence), IUPAC.unambiguous_dna)\n",
    "#print(sequence)\n",
    "print(len(mutable_seq))\n",
    "print(mutable_seq[:20])\n",
    "mutable_seq[25] = \"K\"\n",
    "mutable_seq[26] = \"K\"\n",
    "mutable_seq[27] = \"K\"\n",
    "mutable_seq[28] = \"K\"\n",
    "print(\"LLLLLLLLLLLLLLLLLLLLLLLLLLLLLLLLLLLLLLLLLLLLLLLLLLLLLLLLLLLLLLLLLLLLLLLLLLLLLLLLLLLLLLLLLLLLLLLLLLLLLL\")\n",
    "print(mutable_seq[:40])\n",
    "mutable_seq.remove(\"K\")\n",
    "mutable_seq.remove(\"K\")\n",
    "mutable_seq.remove(\"K\")\n",
    "mutable_seq.remove(\"K\")\n",
    "print(\"UUUUUUUUUUUUUUUUUUUUUUUUUUUUUUUUUUUUUUUUUUUUUUUUUUUUUUUUUUUUUUUUUUUUUUUUUUUUUUUUUUUUUUUUUUUUUUUUUUUUUUUU\")\n",
    "print(mutable_seq[:40])\n",
    "new_seq = mutable_seq.toseq()\n",
    "new_seq.id = \"AJ123452\"\n",
    "print(\"WWWWWWWWWWWWWWWWWWWWWWWWWWWWWWWWWWWWWWWWWWWWWWWWWWWWWWWWWWWWWWWWWWWWWWWWWWWWWWWWWWWWWWWWWWWWWWWWWWWWWWWWWW\")\n",
    "print(new_seq.id)\n",
    "simple_seq_req = SeqRecord(new_seq)\n",
    "simple_seq_req.id = 'AJ123452'\n",
    "print(len(simple_seq_req))\n",
    "SeqIO.write(simple_seq_req, \"P003-BRCA1-VAR02.fasta\", \"fasta\")"
   ]
  },
  {
   "cell_type": "code",
   "execution_count": 10,
   "metadata": {},
   "outputs": [],
   "source": [
    "var2_seq_record = SeqIO.read(\"P003-BRCA1-VAR02.fasta\", \"fasta\")"
   ]
  },
  {
   "cell_type": "code",
   "execution_count": 11,
   "metadata": {},
   "outputs": [
    {
     "name": "stdout",
     "output_type": "stream",
     "text": [
      "GCTGAGACTTCCTGGACGGG\n",
      "GCTGAGACTTCCTGGACGGG\n"
     ]
    }
   ],
   "source": [
    "print(var2_seq_record.seq[:20])\n",
    "print(ref_seq_record.seq[:20])"
   ]
  },
  {
   "cell_type": "code",
   "execution_count": 12,
   "metadata": {},
   "outputs": [
    {
     "name": "stdout",
     "output_type": "stream",
     "text": [
      "7088\n",
      "GCTGAGACTTCCTGGACGGGGGACAGGCTGTGGGGTTTCT\n",
      "LLLLLLLLLLLLLLLLLLLLLLLLLLLLLLLLLLLLLLLLLLLLLLLLLLLLLLLLLLLLLLLLLLLLLLLLLLLLLLLLLLLLLLLLLLLLLLLLLLLLLL\n",
      "GCTGAGACTTCCTGGACGGGGGACAGGCTKKKKGGTTTCT\n",
      "UUUUUUUUUUUUUUUUUUUUUUUUUUUUUUUUUUUUUUUUUUUUUUUUUUUUUUUUUUUUUUUUUUUUUUUUUUUUUUUUUUUUUUUUUUUUUUUUUUUUUUUU\n",
      "GCTGAGACTTCCTGGACGGGGGACAGGCTGGTTTCTCAGA\n",
      "WWWWWWWWWWWWWWWWWWWWWWWWWWWWWWWWWWWWWWWWWWWWWWWWWWWWWWWWWWWWWWWWWWWWWWWWWWWWWWWWWWWWWWWWWWWWWWWWWWWWWWWWWW\n",
      "AJ123453\n",
      "7084\n"
     ]
    },
    {
     "data": {
      "text/plain": [
       "1"
      ]
     },
     "execution_count": 12,
     "metadata": {},
     "output_type": "execute_result"
    }
   ],
   "source": [
    "sequence = ref_seq_record.seq\n",
    "mutable_seq = MutableSeq(str(sequence), IUPAC.unambiguous_dna)\n",
    "#print(sequence)\n",
    "print(len(mutable_seq))\n",
    "print(mutable_seq[:40])\n",
    "mutable_seq[29] = \"K\"\n",
    "mutable_seq[30] = \"K\"\n",
    "mutable_seq[31] = \"K\"\n",
    "mutable_seq[32] = \"K\"\n",
    "print(\"LLLLLLLLLLLLLLLLLLLLLLLLLLLLLLLLLLLLLLLLLLLLLLLLLLLLLLLLLLLLLLLLLLLLLLLLLLLLLLLLLLLLLLLLLLLLLLLLLLLLLL\")\n",
    "print(mutable_seq[:40])\n",
    "mutable_seq.remove(\"K\")\n",
    "mutable_seq.remove(\"K\")\n",
    "mutable_seq.remove(\"K\")\n",
    "mutable_seq.remove(\"K\")\n",
    "print(\"UUUUUUUUUUUUUUUUUUUUUUUUUUUUUUUUUUUUUUUUUUUUUUUUUUUUUUUUUUUUUUUUUUUUUUUUUUUUUUUUUUUUUUUUUUUUUUUUUUUUUUUU\")\n",
    "print(mutable_seq[:40])\n",
    "new_seq = mutable_seq.toseq()\n",
    "new_seq.id = \"AJ123453\"\n",
    "print(\"WWWWWWWWWWWWWWWWWWWWWWWWWWWWWWWWWWWWWWWWWWWWWWWWWWWWWWWWWWWWWWWWWWWWWWWWWWWWWWWWWWWWWWWWWWWWWWWWWWWWWWWWWW\")\n",
    "print(new_seq.id)\n",
    "simple_seq_req = SeqRecord(new_seq)\n",
    "simple_seq_req.id = 'AJ123453'\n",
    "print(len(simple_seq_req))\n",
    "SeqIO.write(simple_seq_req, \"P003-BRCA1-VAR03.fasta\", \"fasta\")"
   ]
  },
  {
   "cell_type": "code",
   "execution_count": 13,
   "metadata": {},
   "outputs": [],
   "source": [
    "var3_seq_record = SeqIO.read(\"P003-BRCA1-VAR03.fasta\", \"fasta\")"
   ]
  },
  {
   "cell_type": "code",
   "execution_count": 14,
   "metadata": {},
   "outputs": [
    {
     "name": "stdout",
     "output_type": "stream",
     "text": [
      "GCTGAGACTTCCTGGACGGGGGACAGGCTGGTTTCTCAGA\n",
      "GCTGAGACTTCCTGGACGGGGGACAGGCTGTGGGGTTTCT\n"
     ]
    }
   ],
   "source": [
    "print(var3_seq_record.seq[:40])\n",
    "print(ref_seq_record.seq[:40])"
   ]
  },
  {
   "cell_type": "code",
   "execution_count": 15,
   "metadata": {},
   "outputs": [
    {
     "name": "stdout",
     "output_type": "stream",
     "text": [
      "7088\n",
      "GCTGAGACTTCCTGGACGGGGGACAGGCTGTGGGGTTTCT\n",
      "LLLLLLLLLLLLLLLLLLLLLLLLLLLLLLLLLLLLLLLLLLLLLLLLLLLLLLLLLLLLLLLLLLLLLLLLLLLLLLLLLLLLLLLLLLLLLLLLLLLLLL\n",
      "GCTGAGACTTCCTGGACGGGGGACAGGCTGTGGGTGGGGT\n",
      "UUUUUUUUUUUUUUUUUUUUUUUUUUUUUUUUUUUUUUUUUUUUUUUUUUUUUUUUUUUUUUUUUUUUUUUUUUUUUUUUUUUUUUUUUUUUUUUUUUUUUUUU\n",
      "GCTGAGACTTCCTGGACGGGGGACAGGCTGTGGGTGGGGT\n",
      "WWWWWWWWWWWWWWWWWWWWWWWWWWWWWWWWWWWWWWWWWWWWWWWWWWWWWWWWWWWWWWWWWWWWWWWWWWWWWWWWWWWWWWWWWWWWWWWWWWWWWWWWWW\n",
      "AJ123454\n",
      "7092\n"
     ]
    },
    {
     "data": {
      "text/plain": [
       "1"
      ]
     },
     "execution_count": 15,
     "metadata": {},
     "output_type": "execute_result"
    }
   ],
   "source": [
    "sequence = ref_seq_record.seq\n",
    "mutable_seq = MutableSeq(str(sequence), IUPAC.unambiguous_dna)\n",
    "#print(sequence)\n",
    "print(len(mutable_seq))\n",
    "print(mutable_seq[:40])\n",
    "mutable_seq.insert(29,\"G\")\n",
    "mutable_seq.insert(30,\"T\")\n",
    "mutable_seq.insert(31,\"G\")\n",
    "mutable_seq.insert(32,\"G\")\n",
    "\n",
    "print(\"LLLLLLLLLLLLLLLLLLLLLLLLLLLLLLLLLLLLLLLLLLLLLLLLLLLLLLLLLLLLLLLLLLLLLLLLLLLLLLLLLLLLLLLLLLLLLLLLLLLLLL\")\n",
    "print(mutable_seq[:40])\n",
    "\n",
    "print(\"UUUUUUUUUUUUUUUUUUUUUUUUUUUUUUUUUUUUUUUUUUUUUUUUUUUUUUUUUUUUUUUUUUUUUUUUUUUUUUUUUUUUUUUUUUUUUUUUUUUUUUUU\")\n",
    "print(mutable_seq[:40])\n",
    "new_seq = mutable_seq.toseq()\n",
    "new_seq.id = \"AJ123454\"\n",
    "print(\"WWWWWWWWWWWWWWWWWWWWWWWWWWWWWWWWWWWWWWWWWWWWWWWWWWWWWWWWWWWWWWWWWWWWWWWWWWWWWWWWWWWWWWWWWWWWWWWWWWWWWWWWWW\")\n",
    "print(new_seq.id)\n",
    "simple_seq_req = SeqRecord(new_seq)\n",
    "simple_seq_req.id = 'AJ123454'\n",
    "print(len(simple_seq_req))\n",
    "SeqIO.write(simple_seq_req, \"P003-BRCA1-VAR04.fasta\", \"fasta\")"
   ]
  },
  {
   "cell_type": "code",
   "execution_count": 16,
   "metadata": {},
   "outputs": [],
   "source": [
    "var4_seq_record = SeqIO.read(\"P003-BRCA1-VAR04.fasta\", \"fasta\")"
   ]
  },
  {
   "cell_type": "code",
   "execution_count": 17,
   "metadata": {},
   "outputs": [
    {
     "name": "stdout",
     "output_type": "stream",
     "text": [
      "GCTGAGACTTCCTGGACGGGGGACAGGCTGTGGGTGGGGT\n",
      "GCTGAGACTTCCTGGACGGGGGACAGGCTGTGGGGTTTCT\n"
     ]
    }
   ],
   "source": [
    "print(var4_seq_record.seq[:40])\n",
    "print(ref_seq_record.seq[:40])"
   ]
  },
  {
   "cell_type": "code",
   "execution_count": 18,
   "metadata": {},
   "outputs": [
    {
     "name": "stdout",
     "output_type": "stream",
     "text": [
      "7088\n",
      "GCTGAGACTTCCTGGACGGGGGACAGGCTGTGGGGTTTCTCAGATAACTG\n",
      "LLLLLLLLLLLLLLLLLLLLLLLLLLLLLLLLLLLLLLLLLLLLLLLLLLLLLLLLLLLLLLLLLLLLLLLLLLLLLLLLLLLLLLLLLLLLLLLLLLLLLL\n",
      "GCTGAGACTTCCTGGACGGGGGACAGGCTGTGGGTGGGGTTTCTCAGATA\n",
      "UUUUUUUUUUUUUUUUUUUUUUUUUUUUUUUUUUUUUUUUUUUUUUUUUUUUUUUUUUUUUUUUUUUUUUUUUUUUUUUUUUUUUUUUUUUUUUUUUUUUUUUU\n",
      "GCTGAGACTTCCTGGACGGGGGACAGGCTGTGGGTGGGGTTTCTCAGATA\n",
      "WWWWWWWWWWWWWWWWWWWWWWWWWWWWWWWWWWWWWWWWWWWWWWWWWWWWWWWWWWWWWWWWWWWWWWWWWWWWWWWWWWWWWWWWWWWWWWWWWWWWWWWWWW\n",
      "AJ123455\n",
      "7092\n"
     ]
    },
    {
     "data": {
      "text/plain": [
       "1"
      ]
     },
     "execution_count": 18,
     "metadata": {},
     "output_type": "execute_result"
    }
   ],
   "source": [
    "sequence = ref_seq_record.seq\n",
    "mutable_seq = MutableSeq(str(sequence), IUPAC.unambiguous_dna)\n",
    "#print(sequence)\n",
    "print(len(mutable_seq))\n",
    "print(mutable_seq[:50])\n",
    "mutable_seq.insert(34,\"T\")\n",
    "mutable_seq.insert(35,\"G\")\n",
    "mutable_seq.insert(36,\"G\")\n",
    "mutable_seq.insert(37,\"G\")\n",
    "print(\"LLLLLLLLLLLLLLLLLLLLLLLLLLLLLLLLLLLLLLLLLLLLLLLLLLLLLLLLLLLLLLLLLLLLLLLLLLLLLLLLLLLLLLLLLLLLLLLLLLLLLL\")\n",
    "print(mutable_seq[:50])\n",
    "\n",
    "print(\"UUUUUUUUUUUUUUUUUUUUUUUUUUUUUUUUUUUUUUUUUUUUUUUUUUUUUUUUUUUUUUUUUUUUUUUUUUUUUUUUUUUUUUUUUUUUUUUUUUUUUUUU\")\n",
    "print(mutable_seq[:50])\n",
    "new_seq = mutable_seq.toseq()\n",
    "new_seq.id = \"AJ123455\"\n",
    "print(\"WWWWWWWWWWWWWWWWWWWWWWWWWWWWWWWWWWWWWWWWWWWWWWWWWWWWWWWWWWWWWWWWWWWWWWWWWWWWWWWWWWWWWWWWWWWWWWWWWWWWWWWWWW\")\n",
    "print(new_seq.id)\n",
    "simple_seq_req = SeqRecord(new_seq)\n",
    "simple_seq_req.id = 'AJ123455'\n",
    "print(len(simple_seq_req))\n",
    "SeqIO.write(simple_seq_req, \"P003-BRCA1-VAR05.fasta\", \"fasta\")"
   ]
  },
  {
   "cell_type": "code",
   "execution_count": 19,
   "metadata": {},
   "outputs": [],
   "source": [
    "var5_seq_record = SeqIO.read(\"P003-BRCA1-VAR05.fasta\", \"fasta\")"
   ]
  },
  {
   "cell_type": "code",
   "execution_count": 20,
   "metadata": {},
   "outputs": [
    {
     "name": "stdout",
     "output_type": "stream",
     "text": [
      "GCTGAGACTTCCTGGACGGGGGACAGGCTGTGGGTGGGGT\n",
      "GCTGAGACTTCCTGGACGGGGGACAGGCTGTGGGGTTTCT\n"
     ]
    }
   ],
   "source": [
    "print(var5_seq_record.seq[:40])\n",
    "print(ref_seq_record.seq[:40])"
   ]
  },
  {
   "cell_type": "code",
   "execution_count": 21,
   "metadata": {},
   "outputs": [
    {
     "name": "stdout",
     "output_type": "stream",
     "text": [
      "7088\n",
      "GCTGAGACTTCCTGGACGGGGGACAGGCTGTGGGGTTTCTCAGATAACTGGGCCCCTGCG\n",
      "LLLLLLLLLLLLLLLLLLLLLLLLLLLLLLLLLLLLLLLLLLLLLLLLLLLLLLLLLLLLLLLLLLLLLLLLLLLLLLLLLLLLLLLLLLLLLLLLLLLLLL\n",
      "GCTGAGACTTCCTGGACGGGGGACAGGCTGTGGATATATGGTTTCTCAGATAACTGGGCC\n",
      "UUUUUUUUUUUUUUUUUUUUUUUUUUUUUUUUUUUUUUUUUUUUUUUUUUUUUUUUUUUUUUUUUUUUUUUUUUUUUUUUUUUUUUUUUUUUUUUUUUUUUUUU\n",
      "GCTGAGACTTCCTGGACGGGGGACAGGCTGTGGATATATGGTTTCTCAGATAACTGGGCC\n",
      "WWWWWWWWWWWWWWWWWWWWWWWWWWWWWWWWWWWWWWWWWWWWWWWWWWWWWWWWWWWWWWWWWWWWWWWWWWWWWWWWWWWWWWWWWWWWWWWWWWWWWWWWWW\n",
      "AJ123456\n",
      "7094\n"
     ]
    },
    {
     "data": {
      "text/plain": [
       "1"
      ]
     },
     "execution_count": 21,
     "metadata": {},
     "output_type": "execute_result"
    }
   ],
   "source": [
    "sequence = ref_seq_record.seq\n",
    "mutable_seq = MutableSeq(str(sequence), IUPAC.unambiguous_dna)\n",
    "#print(sequence)\n",
    "print(len(mutable_seq))\n",
    "print(mutable_seq[:60])\n",
    "mutable_seq.insert(33,\"A\")\n",
    "mutable_seq.insert(34,\"T\")\n",
    "mutable_seq.insert(35,\"A\")\n",
    "mutable_seq.insert(36,\"T\")\n",
    "mutable_seq.insert(37,\"A\")\n",
    "mutable_seq.insert(38,\"T\")\n",
    "print(\"LLLLLLLLLLLLLLLLLLLLLLLLLLLLLLLLLLLLLLLLLLLLLLLLLLLLLLLLLLLLLLLLLLLLLLLLLLLLLLLLLLLLLLLLLLLLLLLLLLLLLL\")\n",
    "print(mutable_seq[:60])\n",
    "\n",
    "print(\"UUUUUUUUUUUUUUUUUUUUUUUUUUUUUUUUUUUUUUUUUUUUUUUUUUUUUUUUUUUUUUUUUUUUUUUUUUUUUUUUUUUUUUUUUUUUUUUUUUUUUUUU\")\n",
    "print(mutable_seq[:60])\n",
    "new_seq = mutable_seq.toseq()\n",
    "new_seq.id = \"AJ123456\"\n",
    "print(\"WWWWWWWWWWWWWWWWWWWWWWWWWWWWWWWWWWWWWWWWWWWWWWWWWWWWWWWWWWWWWWWWWWWWWWWWWWWWWWWWWWWWWWWWWWWWWWWWWWWWWWWWWW\")\n",
    "print(new_seq.id)\n",
    "simple_seq_req = SeqRecord(new_seq)\n",
    "simple_seq_req.id = 'AJ123456'\n",
    "print(len(simple_seq_req))\n",
    "SeqIO.write(simple_seq_req, \"P003-BRCA1-VAR06.fasta\", \"fasta\")"
   ]
  },
  {
   "cell_type": "code",
   "execution_count": 22,
   "metadata": {},
   "outputs": [],
   "source": [
    "var6_seq_record = SeqIO.read(\"P003-BRCA1-VAR06.fasta\", \"fasta\")"
   ]
  },
  {
   "cell_type": "code",
   "execution_count": 23,
   "metadata": {},
   "outputs": [
    {
     "name": "stdout",
     "output_type": "stream",
     "text": [
      "GCTGAGACTTCCTGGACGGGGGACAGGCTGTGGATATATG\n",
      "GCTGAGACTTCCTGGACGGGGGACAGGCTGTGGGGTTTCT\n"
     ]
    }
   ],
   "source": [
    "print(var6_seq_record.seq[:40])\n",
    "print(ref_seq_record.seq[:40])"
   ]
  },
  {
   "cell_type": "code",
   "execution_count": 24,
   "metadata": {},
   "outputs": [
    {
     "name": "stdout",
     "output_type": "stream",
     "text": [
      "7088\n",
      "GCTGAGACTTCCTGGACGGGGGACAGGCTGTGGGGTTTCTCAGATAACTG\n",
      "LLLLLLLLLLLLLLLLLLLLLLLLLLLLLLLLLLLLLLLLLLLLLLLLLLLLLLLLLLLLLLLLLLLLLLLLLLLLLLLLLLLLLLLLLLLLLLLLLLLLLL\n",
      "GCTGAGACTTCCTGGACGGGGGACAGGCTKKGGAAGGGGTTTCTCAGATA\n",
      "UUUUUUUUUUUUUUUUUUUUUUUUUUUUUUUUUUUUUUUUUUUUUUUUUUUUUUUUUUUUUUUUUUUUUUUUUUUUUUUUUUUUUUUUUUUUUUUUUUUUUUUU\n",
      "GCTGAGACTTCCTGGACGGGGGACAGGCTGGAAGGGGTTTCTCAGATAAC\n",
      "WWWWWWWWWWWWWWWWWWWWWWWWWWWWWWWWWWWWWWWWWWWWWWWWWWWWWWWWWWWWWWWWWWWWWWWWWWWWWWWWWWWWWWWWWWWWWWWWWWWWWWWWWW\n",
      "AJ123457\n",
      "7090\n"
     ]
    },
    {
     "data": {
      "text/plain": [
       "1"
      ]
     },
     "execution_count": 24,
     "metadata": {},
     "output_type": "execute_result"
    }
   ],
   "source": [
    "sequence = ref_seq_record.seq\n",
    "mutable_seq = MutableSeq(str(sequence), IUPAC.unambiguous_dna)\n",
    "#print(sequence)\n",
    "print(len(mutable_seq))\n",
    "print(mutable_seq[:50])\n",
    "mutable_seq[29] = \"K\"\n",
    "mutable_seq[30] = \"K\"\n",
    "mutable_seq.insert(31,\"G\")\n",
    "mutable_seq.insert(32,\"G\")\n",
    "mutable_seq.insert(33,\"A\")\n",
    "mutable_seq.insert(34,\"A\")\n",
    "print(\"LLLLLLLLLLLLLLLLLLLLLLLLLLLLLLLLLLLLLLLLLLLLLLLLLLLLLLLLLLLLLLLLLLLLLLLLLLLLLLLLLLLLLLLLLLLLLLLLLLLLLL\")\n",
    "print(mutable_seq[:50])\n",
    "mutable_seq.remove(\"K\")\n",
    "mutable_seq.remove(\"K\")\n",
    "\n",
    "print(\"UUUUUUUUUUUUUUUUUUUUUUUUUUUUUUUUUUUUUUUUUUUUUUUUUUUUUUUUUUUUUUUUUUUUUUUUUUUUUUUUUUUUUUUUUUUUUUUUUUUUUUUU\")\n",
    "print(mutable_seq[:50])\n",
    "new_seq = mutable_seq.toseq()\n",
    "new_seq.id = \"AJ123457\"\n",
    "print(\"WWWWWWWWWWWWWWWWWWWWWWWWWWWWWWWWWWWWWWWWWWWWWWWWWWWWWWWWWWWWWWWWWWWWWWWWWWWWWWWWWWWWWWWWWWWWWWWWWWWWWWWWWW\")\n",
    "print(new_seq.id)\n",
    "simple_seq_req = SeqRecord(new_seq)\n",
    "simple_seq_req.id = 'AJ123457'\n",
    "print(len(simple_seq_req))\n",
    "SeqIO.write(simple_seq_req, \"P003-BRCA1-VAR07.fasta\", \"fasta\")\n",
    "SeqIO.write(simple_seq_req, \"P003-BRCA1-VAR08.fasta\", \"fasta\")"
   ]
  },
  {
   "cell_type": "code",
   "execution_count": 25,
   "metadata": {},
   "outputs": [],
   "source": [
    "var7_seq_record = SeqIO.read(\"P003-BRCA1-VAR07.fasta\", \"fasta\")"
   ]
  },
  {
   "cell_type": "code",
   "execution_count": 26,
   "metadata": {},
   "outputs": [
    {
     "name": "stdout",
     "output_type": "stream",
     "text": [
      "GCTGAGACTTCCTGGACGGGGGACAGGCTGGAAGGGGTTT\n",
      "GCTGAGACTTCCTGGACGGGGGACAGGCTGTGGGGTTTCT\n"
     ]
    }
   ],
   "source": [
    "print(var7_seq_record.seq[:40])\n",
    "print(ref_seq_record.seq[:40])"
   ]
  },
  {
   "cell_type": "code",
   "execution_count": null,
   "metadata": {},
   "outputs": [],
   "source": []
  }
 ],
 "metadata": {
  "kernelspec": {
   "display_name": "Python 3",
   "language": "python",
   "name": "python3"
  },
  "language_info": {
   "codemirror_mode": {
    "name": "ipython",
    "version": 3
   },
   "file_extension": ".py",
   "mimetype": "text/x-python",
   "name": "python",
   "nbconvert_exporter": "python",
   "pygments_lexer": "ipython3",
   "version": "3.7.7"
  }
 },
 "nbformat": 4,
 "nbformat_minor": 4
}
